{
 "cells": [
  {
   "cell_type": "markdown",
   "metadata": {},
   "source": [
    "## Аггрегация разметки датасета MathLogicQA"
   ]
  },
  {
   "cell_type": "markdown",
   "metadata": {},
   "source": [
    "Аггрегация строится по следующей системе:\n",
    "\n",
    "1. Сбор размеченных пулов с Толоки. Возможны варианты:\n",
    "    - только общий пул нужно аггрегировать, тогда забирается только он\n",
    "    - часть данных находится в контрольных заданиях и экзамене, тогда к основному пулу добавляются данные задания\n",
    "2. Фильтрация разметчиков:\n",
    "    - в общем пуле есть некоторое количество заранее размеченных заданий - контрольных\n",
    "    - хорошим считается разметчик, который показывает `accuracy >= 0.5` на данных заданиях\n",
    "    - формируется список \"плохих\" разметчиков\n",
    "3. Аггрегация ответов разметчиков по заданиям:\n",
    "    - форматирование в заданиях может отличаться от изначального из-за выгрузки с Толоки\n",
    "    - учитываются только ответы \"хороших\" разметчиков\n",
    "    - аггрегация по подготовленным пулам - создается массив карточек вида {key: value}, где key - кортеж из всех значимых элементов задания, value - список из кортежей вида (user_id, answer)\n",
    "4. Голосование большинством по каждому заданию:\n",
    "    - минимально необходимое большинство составляет 3 голоса, так как такое большинство валидно для перекрытия 5\n",
    "    - по результату формируется датафрейм с заданиями и ответами\n",
    "5. Подгрузка оригинальных данных с разметкой в виде таблицы с заданиями и ответами\n",
    "6. Соединение таблиц:\n",
    "    - очистка форматирования в таблице с ответами разметчиков и в таблице с правильными ответами\n",
    "    - создание единых столбцов с полным заданием\n",
    "    - соединение таблиц по данному столбцу\n",
    "    - валидация размеров\n",
    "7. Подсчет метрик"
   ]
  },
  {
   "cell_type": "code",
   "execution_count": 1,
   "metadata": {},
   "outputs": [],
   "source": [
    "import pandas as pd\n",
    "from collections import Counter\n",
    "import numpy as np"
   ]
  },
  {
   "cell_type": "markdown",
   "metadata": {},
   "source": [
    "### Сбор данных разметки и фильтрация разметчиков"
   ]
  },
  {
   "cell_type": "markdown",
   "metadata": {},
   "source": [
    "Датасет проходил разметку одним пулом из 1143 объектов, которые были получены путем фильтрации перевода оригинального сета на русский язык."
   ]
  },
  {
   "cell_type": "code",
   "execution_count": 2,
   "metadata": {},
   "outputs": [],
   "source": [
    "assignments = pd.read_csv('assignments_from_pool_41847389__20-10-2023.tsv', sep='\\t')\n",
    "skills = pd.read_csv('workerSkills.csv', sep='|')"
   ]
  },
  {
   "cell_type": "code",
   "execution_count": 3,
   "metadata": {},
   "outputs": [
    {
     "data": {
      "text/plain": [
       "(8573, 19)"
      ]
     },
     "execution_count": 3,
     "metadata": {},
     "output_type": "execute_result"
    }
   ],
   "source": [
    "assignments.shape"
   ]
  },
  {
   "cell_type": "markdown",
   "metadata": {},
   "source": [
    "Разметчикам предлагалось на основании имеющейся текстовой задачи и вариантов ответа на нее ответить на вопрос, какой ответ правильный. \n",
    "\n",
    "Вход: \n",
    "- INPUT:problem (пример: `Сколько будет два плюс два`).\n",
    "- INPUT:option1 (пример: `4`).\n",
    "- INPUT:option2 (пример: `1`).\n",
    "- INPUT:option3 (пример: `-4`).\n",
    "- INPUT:option4 (пример: `0`).\n",
    "\n",
    "Выход:\n",
    "- OUTPUT:solution (одна из четырех букв на выбор: `A`, `B`, `C`, `D`).\n",
    "\n",
    "В разметке были задачи, в которых предлагалось не 4, а 3 или 2 варианта ответа. Для них количество возможных букв в ответе, соответственно, сокращалось."
   ]
  },
  {
   "cell_type": "code",
   "execution_count": 4,
   "metadata": {},
   "outputs": [
    {
     "data": {
      "text/html": [
       "<div>\n",
       "<style scoped>\n",
       "    .dataframe tbody tr th:only-of-type {\n",
       "        vertical-align: middle;\n",
       "    }\n",
       "\n",
       "    .dataframe tbody tr th {\n",
       "        vertical-align: top;\n",
       "    }\n",
       "\n",
       "    .dataframe thead th {\n",
       "        text-align: right;\n",
       "    }\n",
       "</style>\n",
       "<table border=\"1\" class=\"dataframe\">\n",
       "  <thead>\n",
       "    <tr style=\"text-align: right;\">\n",
       "      <th></th>\n",
       "      <th>INPUT:option1</th>\n",
       "      <th>INPUT:option2</th>\n",
       "      <th>INPUT:option3</th>\n",
       "      <th>INPUT:option4</th>\n",
       "      <th>INPUT:problem</th>\n",
       "      <th>OUTPUT:solution</th>\n",
       "      <th>GOLDEN:solution</th>\n",
       "      <th>HINT:text</th>\n",
       "      <th>HINT:default_language</th>\n",
       "      <th>ASSIGNMENT:link</th>\n",
       "      <th>ASSIGNMENT:task_id</th>\n",
       "      <th>ASSIGNMENT:assignment_id</th>\n",
       "      <th>ASSIGNMENT:task_suite_id</th>\n",
       "      <th>ASSIGNMENT:worker_id</th>\n",
       "      <th>ASSIGNMENT:status</th>\n",
       "      <th>ASSIGNMENT:started</th>\n",
       "      <th>ASSIGNMENT:submitted</th>\n",
       "      <th>ASSIGNMENT:accepted</th>\n",
       "      <th>ASSIGNMENT:reward</th>\n",
       "    </tr>\n",
       "  </thead>\n",
       "  <tbody>\n",
       "    <tr>\n",
       "      <th>0</th>\n",
       "      <td>неправда</td>\n",
       "      <td>невозможно определить</td>\n",
       "      <td>нет правильного ответа</td>\n",
       "      <td>правда</td>\n",
       "      <td>2 умножить на r минус t равно 1. 2 умножить на...</td>\n",
       "      <td>D</td>\n",
       "      <td>D</td>\n",
       "      <td>NaN</td>\n",
       "      <td>NaN</td>\n",
       "      <td>https://platform.toloka.ai/task/41847389/00027...</td>\n",
       "      <td>00027e8a5d--6531445f90b596667cdeab6c</td>\n",
       "      <td>00027e8a5d--65314dbab28c1e25e8d0234c</td>\n",
       "      <td>00027e8a5d--65314dbab28c1e25e8d0234a</td>\n",
       "      <td>1b2fbe75c141718717281a939bdb0e49</td>\n",
       "      <td>APPROVED</td>\n",
       "      <td>2023-10-19T15:39:38.951</td>\n",
       "      <td>2023-10-19T15:40:52.386</td>\n",
       "      <td>2023-10-19T15:40:52.386</td>\n",
       "      <td>0.042</td>\n",
       "    </tr>\n",
       "  </tbody>\n",
       "</table>\n",
       "</div>"
      ],
      "text/plain": [
       "  INPUT:option1          INPUT:option2           INPUT:option3 INPUT:option4  \\\n",
       "0      неправда  невозможно определить  нет правильного ответа        правда   \n",
       "\n",
       "                                       INPUT:problem OUTPUT:solution  \\\n",
       "0  2 умножить на r минус t равно 1. 2 умножить на...               D   \n",
       "\n",
       "  GOLDEN:solution  HINT:text  HINT:default_language  \\\n",
       "0               D        NaN                    NaN   \n",
       "\n",
       "                                     ASSIGNMENT:link  \\\n",
       "0  https://platform.toloka.ai/task/41847389/00027...   \n",
       "\n",
       "                     ASSIGNMENT:task_id              ASSIGNMENT:assignment_id  \\\n",
       "0  00027e8a5d--6531445f90b596667cdeab6c  00027e8a5d--65314dbab28c1e25e8d0234c   \n",
       "\n",
       "               ASSIGNMENT:task_suite_id              ASSIGNMENT:worker_id  \\\n",
       "0  00027e8a5d--65314dbab28c1e25e8d0234a  1b2fbe75c141718717281a939bdb0e49   \n",
       "\n",
       "  ASSIGNMENT:status       ASSIGNMENT:started     ASSIGNMENT:submitted  \\\n",
       "0          APPROVED  2023-10-19T15:39:38.951  2023-10-19T15:40:52.386   \n",
       "\n",
       "       ASSIGNMENT:accepted  ASSIGNMENT:reward  \n",
       "0  2023-10-19T15:40:52.386              0.042  "
      ]
     },
     "execution_count": 4,
     "metadata": {},
     "output_type": "execute_result"
    }
   ],
   "source": [
    "assignments.head(1)"
   ]
  },
  {
   "cell_type": "markdown",
   "metadata": {},
   "source": [
    "Фильтруем толокеров, которые дали меньше половины корректных ответов на контрольных заданиях."
   ]
  },
  {
   "cell_type": "code",
   "execution_count": 5,
   "metadata": {},
   "outputs": [
    {
     "name": "stdout",
     "output_type": "stream",
     "text": [
      "Users total:  232\n",
      "Bad users: 25\n"
     ]
    }
   ],
   "source": [
    "from collections import defaultdict\n",
    "\n",
    "users_dict = defaultdict(lambda: defaultdict(int))\n",
    "\n",
    "for idx, row in assignments.iterrows():\n",
    "    problem = row[4]\n",
    "\n",
    "    out = row[5]\n",
    "    \n",
    "    gold = row[6]\n",
    "\n",
    "    user = row[13]\n",
    "\n",
    "    if str(user) != \"nan\" and str(gold) != \"nan\":\n",
    "        if out == gold:\n",
    "            users_dict[user][\"good\"] += 1\n",
    "        else:\n",
    "            users_dict[user][\"bad\"] += 1\n",
    "\n",
    "print(\"Users total: \", len(users_dict))\n",
    "bad_users = []\n",
    "for key, value in users_dict.items():\n",
    "    percentage_good = value[\"good\"]/(value[\"good\"] + value[\"bad\"])\n",
    "    if percentage_good < 0.5:\n",
    "        bad_users.append(key)\n",
    "\n",
    "print(\"Bad users:\", len(bad_users))"
   ]
  },
  {
   "cell_type": "markdown",
   "metadata": {},
   "source": [
    "25 из 232 разметчиков на контрольных заданиях показали слишком плохое качество, чтобы учитывать их ответы для расчета метрики."
   ]
  },
  {
   "cell_type": "markdown",
   "metadata": {},
   "source": [
    "Теперь нужно оставить только основной пул. Контрольные задания генерировались на основе задач из основного пула, но с существенными изменениями условий и ответов, потому их нужно убрать. На контрольных заданиях есть `GOLDEN:solution`. Также отсеиваем возможные баги Толоки, когда в строке может не быть задания - `INPUT:problem` содержит NaN."
   ]
  },
  {
   "cell_type": "code",
   "execution_count": 6,
   "metadata": {},
   "outputs": [],
   "source": [
    "assignments_no_control = assignments[assignments['GOLDEN:solution'].isnull()]\n",
    "assignments_no_control_no_null = assignments_no_control[assignments_no_control['INPUT:problem'].notnull()]"
   ]
  },
  {
   "cell_type": "markdown",
   "metadata": {},
   "source": [
    "Посчитаем, сколько было затрачено на получение разметки тестовых данных без учета контрольных заданий, так как они могли проходиться неограниченное количество раз одним и тем же разметчиком."
   ]
  },
  {
   "cell_type": "code",
   "execution_count": 7,
   "metadata": {},
   "outputs": [
    {
     "name": "stdout",
     "output_type": "stream",
     "text": [
      "взвешенная цена айтема в тесте: 0.041\n",
      "потрачено на разметку теста: 233.888\n",
      "233.888 / 0.041\n"
     ]
    }
   ],
   "source": [
    "def w_sum(df):\n",
    "    idx = df.index.values\n",
    "    vals = df.values\n",
    "    summ = idx * vals\n",
    "    return summ.sum()\n",
    "\n",
    "d1 = assignments_no_control_no_null['ASSIGNMENT:reward'].value_counts(normalize=True)\n",
    "d2 = assignments_no_control_no_null['ASSIGNMENT:reward'].value_counts()\n",
    "print(f'взвешенная цена айтема в тесте: {round(w_sum(d1), 3)}')\n",
    "print(f'потрачено на разметку теста: {round(w_sum(d2), 3)}')\n",
    "print(f'{round(w_sum(d2), 3)} / {round(w_sum(d1), 3)}')"
   ]
  },
  {
   "cell_type": "markdown",
   "metadata": {},
   "source": [
    "Выделим, сколько составила средняя часовая ставка для разметки тестовой части датасета. Это будет простое среднее из следующих величин: количество заданий, которое разметчк может сделать за час на основе данного задания, помноженное на цену задания."
   ]
  },
  {
   "cell_type": "code",
   "execution_count": 8,
   "metadata": {},
   "outputs": [
    {
     "data": {
      "text/plain": [
       "1.034588397678552"
      ]
     },
     "execution_count": 8,
     "metadata": {},
     "output_type": "execute_result"
    }
   ],
   "source": [
    "def get_hour_pay(df):\n",
    "    try:\n",
    "        times = pd.to_datetime(df['ASSIGNMENT:submitted']) - pd.to_datetime(df['ASSIGNMENT:started'])\n",
    "    except Exception as e:\n",
    "        times = []\n",
    "        for i in range(len(assignments_no_control_no_null)):\n",
    "            try:\n",
    "                start = pd.to_datetime(assignments_no_control_no_null['ASSIGNMENT:started'].iloc[i])\n",
    "            except Exception as e:\n",
    "                start = pd.to_datetime(assignments_no_control_no_null['ASSIGNMENT:started'].apply(lambda x: x.split('T')[1]).iloc[i])\n",
    "            try:\n",
    "                end = pd.to_datetime(assignments_no_control_no_null['ASSIGNMENT:submitted'].iloc[i])\n",
    "            except Exception as e:\n",
    "                start = pd.to_datetime(assignments_no_control_no_null['ASSIGNMENT:submitted'].apply(lambda x: x.split('T')[1]).iloc[i])\n",
    "            delta = end - start\n",
    "            times.extend([delta])\n",
    "        times = pd.Series(times)\n",
    "        # times = pd.to_datetime(df['ASSIGNMENT:submitted'].apply(lambda x: x.split('T')[1])) - pd.to_datetime(df['ASSIGNMENT:started'].apply(lambda x: x.split('T')[1]))\n",
    "    sums = 3600 / times.apply(lambda x: x.seconds) * df['ASSIGNMENT:reward']\n",
    "    return sums.mean()\n",
    "\n",
    "get_hour_pay(assignments_no_control_no_null)"
   ]
  },
  {
   "cell_type": "markdown",
   "metadata": {},
   "source": [
    "### Сбор ответов разметчиков и голосование"
   ]
  },
  {
   "cell_type": "markdown",
   "metadata": {},
   "source": [
    "Собираем ответы голосования большинством для каждого задания."
   ]
  },
  {
   "cell_type": "code",
   "execution_count": 9,
   "metadata": {},
   "outputs": [
    {
     "name": "stdout",
     "output_type": "stream",
     "text": [
      "1143\n"
     ]
    }
   ],
   "source": [
    "from collections import defaultdict\n",
    "\n",
    "text_dict = defaultdict(list)\n",
    "\n",
    "for prob, user, out in zip(\n",
    "    assignments_no_control_no_null[\"INPUT:problem\"], assignments_no_control_no_null[\"ASSIGNMENT:worker_id\"], \n",
    "    assignments_no_control_no_null[\"OUTPUT:solution\"]\n",
    "    ):\n",
    "    if user not in bad_users:\n",
    "        text_dict[prob].append([\n",
    "                user,\n",
    "                {\"out\": out}\n",
    "        ])\n",
    "\n",
    "print(len(text_dict))"
   ]
  },
  {
   "cell_type": "code",
   "execution_count": 10,
   "metadata": {},
   "outputs": [
    {
     "data": {
      "text/plain": [
       "Counter({5: 1080, 4: 60, 3: 3})"
      ]
     },
     "execution_count": 10,
     "metadata": {},
     "output_type": "execute_result"
    }
   ],
   "source": [
    "keys = list(text_dict.keys())\n",
    "Counter([len(text_dict[keys[i]]) for i in range(len(keys))])"
   ]
  },
  {
   "cell_type": "markdown",
   "metadata": {},
   "source": [
    "Есть 63 задания с перекрытием меньше 5. Для формирования итоговых лейблов нужно, чтобы было простое большинство разметчиков, проголосовавших за данную опцию. Если большинства нет, то оценка строится, исходя из оценки навыков разметчиков. В таком случае, финальный лейбл будет присвоен по голосу группы с наилучшими навыками."
   ]
  },
  {
   "cell_type": "code",
   "execution_count": 15,
   "metadata": {},
   "outputs": [],
   "source": [
    "preds_full = {}\n",
    "user2skill = {k:v for k, v in zip(skills['worker_id'], skills['skill_value'])}\n",
    "control_acc = assignments[assignments['GOLDEN:solution'].notna()]\\\n",
    "    .groupby('ASSIGNMENT:worker_id')\\\n",
    "        .apply(lambda x: (np.array(x['OUTPUT:solution']) == np.array(x['GOLDEN:solution'])).mean())\n",
    "user2control = {k:v for k, v in zip(control_acc.index, control_acc.values)}\n",
    "\n",
    "from crowdkit.aggregation.classification.glad import GLAD\n",
    "\n",
    "full = assignments['INPUT:problem'] + ' ' + assignments['INPUT:option1'] + ' ' + assignments['INPUT:option2'] + ' ' + assignments['INPUT:option3'] + ' ' + assignments['INPUT:option4']\n",
    "id2task = dict(enumerate(full))\n",
    "task2id = {k:v for v, k in id2task.items()}\n",
    "id2user = dict(enumerate(assignments['ASSIGNMENT:worker_id']))\n",
    "user2id = {k:v for v, k in id2user.items()}\n",
    "\n",
    "codes = full.map(task2id)\n",
    "res = pd.DataFrame({'task': codes, 'worker': assignments['ASSIGNMENT:worker_id'].map(user2id), 'label': assignments['OUTPUT:solution']})\n",
    "model = GLAD(n_iter=10000, tol=1e-06, m_step_max_iter=1000, m_step_tol=1e-03)\n",
    "model.fit(res)\n",
    "user2alpha = dict(enumerate(model.alphas_))\n",
    "tb = model.alphas_.copy()\n",
    "tb.index = tb.index.map(id2user)\n",
    "user2alpha = {k:v for k, v in zip(tb.index, tb.values)}\n",
    "\n",
    "stats = {\n",
    "    'total_agreement': 0,\n",
    "    'majority': 0,\n",
    "    'skill_based': 0,\n",
    "    'major_based': 0,\n",
    "    'em_based': 0,\n",
    "    'rest': 0,\n",
    "}\n",
    "\n",
    "for i in range(len(keys)):\n",
    "    ans = text_dict[keys[i]]\n",
    "    lst = [[ans[j][0], ans[j][1]['out']] for j in range(len(ans))]\n",
    "    users, votes = list(zip(*lst))\n",
    "    cnt = pd.Series(Counter(votes)).sort_values(ascending=False)\n",
    "\n",
    "    # # total agreement\n",
    "    if len(cnt) == 1:\n",
    "        res = cnt.index[0]\n",
    "        stats['total_agreement'] += 1\n",
    "    # simple majority\n",
    "    elif cnt.iloc[0] > cnt.iloc[1]:\n",
    "        res = cnt.index[0]\n",
    "        stats['majority'] += 1\n",
    "    # (> 1 options) & (1 option == 2 option)\n",
    "    else:\n",
    "        # try overall skill based comparison\n",
    "        vals = list(map(lambda x: user2skill[x], users))\n",
    "        table = pd.DataFrame({'user': users, 'votes': votes, 'skill': vals})\n",
    "        agg = table.groupby('votes').agg(\n",
    "            sum_skill=pd.NamedAgg(column='skill', aggfunc='sum'),\n",
    "            sum_votes=pd.NamedAgg(column='user', aggfunc='count')\n",
    "        ).sort_values(by=['sum_votes', 'sum_skill'], ascending=False)\n",
    "        # check there is a leader by skills\n",
    "        if agg['sum_skill'].iloc[0] > agg['sum_skill'].iloc[1]:\n",
    "            res = agg.index[0]\n",
    "            stats['skill_based'] += 1\n",
    "        else:\n",
    "            # top-3 answers by overall skills\n",
    "            vals = list(map(lambda x: user2skill[x], users))\n",
    "            table = pd.DataFrame({'user': users, 'votes': votes, 'skill': vals})\n",
    "            table = table.sort_values(by='skill', ascending=False)\n",
    "            if len(table) >= 3:\n",
    "                sub = table.iloc[:3]\n",
    "            else:\n",
    "                sub = table\n",
    "            agg = sub.groupby('votes').agg(\n",
    "                sum_skill=pd.NamedAgg(column='skill', aggfunc='sum'),\n",
    "                sum_votes=pd.NamedAgg(column='user', aggfunc='count')\n",
    "            ).sort_values(by=['sum_votes', 'sum_skill'], ascending=False)\n",
    "            if agg['sum_skill'].iloc[0] != agg['sum_skill'].iloc[1]:\n",
    "                res = agg.index[0]\n",
    "                stats['major_based'] += 1\n",
    "            \n",
    "            else:\n",
    "                vals = list(map(lambda x: user2alpha[x], users))\n",
    "                table = pd.DataFrame({'user': users, 'votes': votes, 'skill': vals})\n",
    "                agg = table.groupby('votes').agg(\n",
    "                    sum_skill=pd.NamedAgg(column='skill', aggfunc='sum'),\n",
    "                    sum_votes=pd.NamedAgg(column='user', aggfunc='count')\n",
    "                ).sort_values(by=['sum_votes', 'sum_skill'], ascending=False)\n",
    "                # check there is a leader by skills\n",
    "                if agg['sum_skill'].iloc[0] != agg['sum_skill'].iloc[1]:\n",
    "                    res = agg.index[0]\n",
    "                    stats['em_based'] += 1\n",
    "                else:\n",
    "                    res = agg.index[0]\n",
    "                    stats['rest'] += 1\n",
    "\n",
    "    preds_full[keys[i]] = res"
   ]
  },
  {
   "cell_type": "code",
   "execution_count": 16,
   "metadata": {},
   "outputs": [
    {
     "data": {
      "text/plain": [
       "{'total_agreement': 846,\n",
       " 'majority': 287,\n",
       " 'skill_based': 9,\n",
       " 'major_based': 1,\n",
       " 'em_based': 0,\n",
       " 'rest': 0}"
      ]
     },
     "execution_count": 16,
     "metadata": {},
     "output_type": "execute_result"
    }
   ],
   "source": [
    "stats"
   ]
  },
  {
   "cell_type": "code",
   "execution_count": 17,
   "metadata": {},
   "outputs": [],
   "source": [
    "preds_full_df = pd.concat([pd.DataFrame(preds_full.keys(), columns=['prob']), pd.DataFrame(preds_full.values(), columns=['lb'])], axis=1)"
   ]
  },
  {
   "cell_type": "markdown",
   "metadata": {},
   "source": [
    "### Сопоставление разметки и ground truth"
   ]
  },
  {
   "cell_type": "markdown",
   "metadata": {},
   "source": [
    "Забираем задания из датасета с правильными метками."
   ]
  },
  {
   "cell_type": "code",
   "execution_count": 18,
   "metadata": {},
   "outputs": [],
   "source": [
    "res_df = pd.read_csv('full_dataset.csv')\n",
    "res_df = res_df.rename({'text': 'prob', 'outputs': 'lb'}, axis=1)"
   ]
  },
  {
   "cell_type": "code",
   "execution_count": 19,
   "metadata": {},
   "outputs": [
    {
     "data": {
      "text/html": [
       "<div>\n",
       "<style scoped>\n",
       "    .dataframe tbody tr th:only-of-type {\n",
       "        vertical-align: middle;\n",
       "    }\n",
       "\n",
       "    .dataframe tbody tr th {\n",
       "        vertical-align: top;\n",
       "    }\n",
       "\n",
       "    .dataframe thead th {\n",
       "        text-align: right;\n",
       "    }\n",
       "</style>\n",
       "<table border=\"1\" class=\"dataframe\">\n",
       "  <thead>\n",
       "    <tr style=\"text-align: right;\">\n",
       "      <th></th>\n",
       "      <th>prob</th>\n",
       "      <th>option_a</th>\n",
       "      <th>option_b</th>\n",
       "      <th>option_c</th>\n",
       "      <th>option_d</th>\n",
       "      <th>lb</th>\n",
       "      <th>task</th>\n",
       "      <th>part</th>\n",
       "    </tr>\n",
       "  </thead>\n",
       "  <tbody>\n",
       "    <tr>\n",
       "      <th>0</th>\n",
       "      <td>Разность -3, 4 и 5 равна 6, умноженному на n. ...</td>\n",
       "      <td>3</td>\n",
       "      <td>-2</td>\n",
       "      <td>-3</td>\n",
       "      <td>2</td>\n",
       "      <td>B</td>\n",
       "      <td>math</td>\n",
       "      <td>train</td>\n",
       "    </tr>\n",
       "  </tbody>\n",
       "</table>\n",
       "</div>"
      ],
      "text/plain": [
       "                                                prob option_a option_b  \\\n",
       "0  Разность -3, 4 и 5 равна 6, умноженному на n. ...        3       -2   \n",
       "\n",
       "  option_c option_d lb  task   part  \n",
       "0       -3        2  B  math  train  "
      ]
     },
     "execution_count": 19,
     "metadata": {},
     "output_type": "execute_result"
    }
   ],
   "source": [
    "res_df.head(1)"
   ]
  },
  {
   "cell_type": "markdown",
   "metadata": {},
   "source": [
    "После скачивания с Толоки в текстах рушится форматирование, потому нельзя просто сделать join двух табличек. Нужно убрать все \"лишнее\" форматирование сразу из двух табличек, чтобы остались только тексты, пунктуация и пробелы."
   ]
  },
  {
   "cell_type": "code",
   "execution_count": 20,
   "metadata": {},
   "outputs": [],
   "source": [
    "def format_text(text):\n",
    "    text = (text.strip().replace('\\n', ' ').replace('\\t', ' ')\n",
    "            .replace('\\r', ' ').replace('  ', ' ').replace('  ', ' ')\n",
    "            .replace('  ', ' '))\n",
    "    return text\n",
    "\n",
    "res_df['prob'] = res_df['prob'].apply(format_text)\n",
    "preds_full_df['prob'] = preds_full_df['prob'].apply(format_text)"
   ]
  },
  {
   "cell_type": "markdown",
   "metadata": {},
   "source": [
    "Делаем left join, чтобы соединить голосование и правильные метки для одних и тех же заданий."
   ]
  },
  {
   "cell_type": "code",
   "execution_count": 21,
   "metadata": {},
   "outputs": [],
   "source": [
    "new = res_df.merge(preds_full_df, on='prob', how='left')"
   ]
  },
  {
   "cell_type": "code",
   "execution_count": 22,
   "metadata": {},
   "outputs": [
    {
     "data": {
      "text/plain": [
       "1143"
      ]
     },
     "execution_count": 22,
     "metadata": {},
     "output_type": "execute_result"
    }
   ],
   "source": [
    "new_valid = new[new['lb_y'].notna()].copy()\n",
    "len(new_valid)"
   ]
  },
  {
   "cell_type": "code",
   "execution_count": 23,
   "metadata": {},
   "outputs": [
    {
     "data": {
      "text/html": [
       "<div>\n",
       "<style scoped>\n",
       "    .dataframe tbody tr th:only-of-type {\n",
       "        vertical-align: middle;\n",
       "    }\n",
       "\n",
       "    .dataframe tbody tr th {\n",
       "        vertical-align: top;\n",
       "    }\n",
       "\n",
       "    .dataframe thead th {\n",
       "        text-align: right;\n",
       "    }\n",
       "</style>\n",
       "<table border=\"1\" class=\"dataframe\">\n",
       "  <thead>\n",
       "    <tr style=\"text-align: right;\">\n",
       "      <th></th>\n",
       "      <th>prob</th>\n",
       "      <th>option_a</th>\n",
       "      <th>option_b</th>\n",
       "      <th>option_c</th>\n",
       "      <th>option_d</th>\n",
       "      <th>lb_x</th>\n",
       "      <th>task</th>\n",
       "      <th>part</th>\n",
       "      <th>lb_y</th>\n",
       "    </tr>\n",
       "  </thead>\n",
       "  <tbody>\n",
       "    <tr>\n",
       "      <th>681</th>\n",
       "      <td>Если сложить 38, умноженное на m и 33, умножен...</td>\n",
       "      <td>71</td>\n",
       "      <td>-10</td>\n",
       "      <td>10</td>\n",
       "      <td>11</td>\n",
       "      <td>C</td>\n",
       "      <td>math</td>\n",
       "      <td>test</td>\n",
       "      <td>C</td>\n",
       "    </tr>\n",
       "  </tbody>\n",
       "</table>\n",
       "</div>"
      ],
      "text/plain": [
       "                                                  prob option_a option_b  \\\n",
       "681  Если сложить 38, умноженное на m и 33, умножен...       71      -10   \n",
       "\n",
       "    option_c option_d lb_x  task  part lb_y  \n",
       "681       10       11    C  math  test    C  "
      ]
     },
     "execution_count": 23,
     "metadata": {},
     "output_type": "execute_result"
    }
   ],
   "source": [
    "new_valid.head(1)"
   ]
  },
  {
   "cell_type": "markdown",
   "metadata": {},
   "source": [
    "### Подсчет метрики"
   ]
  },
  {
   "cell_type": "markdown",
   "metadata": {},
   "source": [
    "Если в правом столбце меток осталось 1143 непустых строк, значит, форматирование было подчищено корректно и ничего не потерялось."
   ]
  },
  {
   "cell_type": "code",
   "execution_count": 24,
   "metadata": {},
   "outputs": [
    {
     "data": {
      "text/plain": [
       "0.989501312335958"
      ]
     },
     "execution_count": 24,
     "metadata": {},
     "output_type": "execute_result"
    }
   ],
   "source": [
    "(new_valid['lb_x'] == new_valid['lb_y']).mean()"
   ]
  },
  {
   "cell_type": "markdown",
   "metadata": {},
   "source": [
    "`Accuracy = 0.99`"
   ]
  },
  {
   "cell_type": "markdown",
   "metadata": {},
   "source": [
    "### Анализ ошибок"
   ]
  },
  {
   "cell_type": "code",
   "execution_count": 25,
   "metadata": {},
   "outputs": [],
   "source": [
    "from scipy import stats\n",
    "import numpy as np"
   ]
  },
  {
   "cell_type": "markdown",
   "metadata": {},
   "source": [
    "После голосования есть всего 6 ошибок - никакой информации из этих 6 ошибок извлечь нельзя, так как ошибок слишком мало, чтобы какой-либо вывод был взвешенным. Посмотрим на изначальный пул ответов разметчиков на каждое задание."
   ]
  },
  {
   "cell_type": "code",
   "execution_count": 26,
   "metadata": {},
   "outputs": [
    {
     "data": {
      "text/html": [
       "<div>\n",
       "<style scoped>\n",
       "    .dataframe tbody tr th:only-of-type {\n",
       "        vertical-align: middle;\n",
       "    }\n",
       "\n",
       "    .dataframe tbody tr th {\n",
       "        vertical-align: top;\n",
       "    }\n",
       "\n",
       "    .dataframe thead th {\n",
       "        text-align: right;\n",
       "    }\n",
       "</style>\n",
       "<table border=\"1\" class=\"dataframe\">\n",
       "  <thead>\n",
       "    <tr style=\"text-align: right;\">\n",
       "      <th></th>\n",
       "      <th>INPUT:option1</th>\n",
       "      <th>INPUT:option2</th>\n",
       "      <th>INPUT:option3</th>\n",
       "      <th>INPUT:option4</th>\n",
       "      <th>INPUT:problem</th>\n",
       "      <th>OUTPUT:solution</th>\n",
       "      <th>GOLDEN:solution</th>\n",
       "      <th>HINT:text</th>\n",
       "      <th>HINT:default_language</th>\n",
       "      <th>ASSIGNMENT:link</th>\n",
       "      <th>ASSIGNMENT:task_id</th>\n",
       "      <th>ASSIGNMENT:assignment_id</th>\n",
       "      <th>ASSIGNMENT:task_suite_id</th>\n",
       "      <th>ASSIGNMENT:worker_id</th>\n",
       "      <th>ASSIGNMENT:status</th>\n",
       "      <th>ASSIGNMENT:started</th>\n",
       "      <th>ASSIGNMENT:submitted</th>\n",
       "      <th>ASSIGNMENT:accepted</th>\n",
       "      <th>ASSIGNMENT:reward</th>\n",
       "    </tr>\n",
       "  </thead>\n",
       "  <tbody>\n",
       "    <tr>\n",
       "      <th>0</th>\n",
       "      <td>неправда</td>\n",
       "      <td>невозможно определить</td>\n",
       "      <td>нет правильного ответа</td>\n",
       "      <td>правда</td>\n",
       "      <td>2 умножить на r минус t равно 1. 2 умножить на...</td>\n",
       "      <td>D</td>\n",
       "      <td>D</td>\n",
       "      <td>NaN</td>\n",
       "      <td>NaN</td>\n",
       "      <td>https://platform.toloka.ai/task/41847389/00027...</td>\n",
       "      <td>00027e8a5d--6531445f90b596667cdeab6c</td>\n",
       "      <td>00027e8a5d--65314dbab28c1e25e8d0234c</td>\n",
       "      <td>00027e8a5d--65314dbab28c1e25e8d0234a</td>\n",
       "      <td>1b2fbe75c141718717281a939bdb0e49</td>\n",
       "      <td>APPROVED</td>\n",
       "      <td>2023-10-19T15:39:38.951</td>\n",
       "      <td>2023-10-19T15:40:52.386</td>\n",
       "      <td>2023-10-19T15:40:52.386</td>\n",
       "      <td>0.042</td>\n",
       "    </tr>\n",
       "  </tbody>\n",
       "</table>\n",
       "</div>"
      ],
      "text/plain": [
       "  INPUT:option1          INPUT:option2           INPUT:option3 INPUT:option4  \\\n",
       "0      неправда  невозможно определить  нет правильного ответа        правда   \n",
       "\n",
       "                                       INPUT:problem OUTPUT:solution  \\\n",
       "0  2 умножить на r минус t равно 1. 2 умножить на...               D   \n",
       "\n",
       "  GOLDEN:solution  HINT:text  HINT:default_language  \\\n",
       "0               D        NaN                    NaN   \n",
       "\n",
       "                                     ASSIGNMENT:link  \\\n",
       "0  https://platform.toloka.ai/task/41847389/00027...   \n",
       "\n",
       "                     ASSIGNMENT:task_id              ASSIGNMENT:assignment_id  \\\n",
       "0  00027e8a5d--6531445f90b596667cdeab6c  00027e8a5d--65314dbab28c1e25e8d0234c   \n",
       "\n",
       "               ASSIGNMENT:task_suite_id              ASSIGNMENT:worker_id  \\\n",
       "0  00027e8a5d--65314dbab28c1e25e8d0234a  1b2fbe75c141718717281a939bdb0e49   \n",
       "\n",
       "  ASSIGNMENT:status       ASSIGNMENT:started     ASSIGNMENT:submitted  \\\n",
       "0          APPROVED  2023-10-19T15:39:38.951  2023-10-19T15:40:52.386   \n",
       "\n",
       "       ASSIGNMENT:accepted  ASSIGNMENT:reward  \n",
       "0  2023-10-19T15:40:52.386              0.042  "
      ]
     },
     "execution_count": 26,
     "metadata": {},
     "output_type": "execute_result"
    }
   ],
   "source": [
    "pool = pd.read_csv('assignments_from_pool_41847389__20-10-2023.tsv', sep='\\t')\n",
    "pool.head(1)"
   ]
  },
  {
   "cell_type": "markdown",
   "metadata": {},
   "source": [
    "Будем считать рассогласованность по энтропии Шеннона."
   ]
  },
  {
   "cell_type": "code",
   "execution_count": 27,
   "metadata": {},
   "outputs": [],
   "source": [
    "def entropy(arr):\n",
    "    arr = np.asarray(arr).reshape(-1,)\n",
    "    cats = np.unique(arr)\n",
    "    probs = np.array([(arr == val).mean() for val in cats])\n",
    "    if (probs == 1).sum():\n",
    "        return 0\n",
    "    return -(probs * np.log2(probs)).sum()"
   ]
  },
  {
   "cell_type": "markdown",
   "metadata": {},
   "source": [
    "Убираем контрольные задания, так как они не нужны."
   ]
  },
  {
   "cell_type": "code",
   "execution_count": 28,
   "metadata": {},
   "outputs": [],
   "source": [
    "pool = pool[pool['GOLDEN:solution'].isna()].reset_index(drop=True)\n",
    "pool = pool.iloc[:, [0, 1, 2, 3, 4, 5, 13]]"
   ]
  },
  {
   "cell_type": "code",
   "execution_count": 29,
   "metadata": {},
   "outputs": [],
   "source": [
    "pool = pool.rename({\n",
    "    'INPUT:option1': 'op1',\n",
    "    'INPUT:option2': 'op2',\n",
    "    'INPUT:option3': 'op3',\n",
    "    'INPUT:option4': 'op4',\n",
    "    'INPUT:problem': 'prob',\n",
    "    'OUTPUT:solution': 'sol',\n",
    "    'ASSIGNMENT:worker_id': 'user'\n",
    "}, axis=1)"
   ]
  },
  {
   "cell_type": "markdown",
   "metadata": {},
   "source": [
    "Join с правильными ответами."
   ]
  },
  {
   "cell_type": "code",
   "execution_count": 30,
   "metadata": {},
   "outputs": [],
   "source": [
    "pool['prob'] = pool['prob'].apply(format_text)"
   ]
  },
  {
   "cell_type": "code",
   "execution_count": 31,
   "metadata": {},
   "outputs": [],
   "source": [
    "pool = pool.merge(res_df.drop(['option_a', 'option_b', 'option_c', 'option_d', 'part'], axis=1), on='prob', how='left')"
   ]
  },
  {
   "cell_type": "code",
   "execution_count": 32,
   "metadata": {},
   "outputs": [
    {
     "data": {
      "text/plain": [
       "(0.92668416447944, 419)"
      ]
     },
     "execution_count": 32,
     "metadata": {},
     "output_type": "execute_result"
    }
   ],
   "source": [
    "pool['cor'] = pool['sol'] == pool['lb']\n",
    "pool['cor'].mean(), pool.shape[0] - pool['cor'].sum()"
   ]
  },
  {
   "cell_type": "markdown",
   "metadata": {},
   "source": [
    "Вот 419 ошибок отдельных толокеров - это то количество, из которого можно попробовать извлечь информацию."
   ]
  },
  {
   "cell_type": "code",
   "execution_count": 33,
   "metadata": {},
   "outputs": [],
   "source": [
    "new = (pd.DataFrame({'prob': pool.prob.unique()})\\\n",
    " .merge(pool.groupby('prob')['sol'].agg(list), on='prob'))\\\n",
    "    .merge(pool.groupby('prob').agg(mean_correct = pd.NamedAgg(column='cor', aggfunc='mean')), on='prob')"
   ]
  },
  {
   "cell_type": "markdown",
   "metadata": {},
   "source": [
    "Попробуем все же посчитать рассогласованность через энтропии Шеннона на списках ответов, чтобы быть уверенным, что информация оттуда бесполезна."
   ]
  },
  {
   "cell_type": "code",
   "execution_count": 34,
   "metadata": {},
   "outputs": [],
   "source": [
    "new['entropy'] = new['sol'].apply(entropy)"
   ]
  },
  {
   "cell_type": "markdown",
   "metadata": {},
   "source": [
    "Соединяем задачу с датасетом: MathQA или MathLogicQA, присвоив число, соответствующее датасету: 1 или 2."
   ]
  },
  {
   "cell_type": "code",
   "execution_count": 35,
   "metadata": {},
   "outputs": [],
   "source": [
    "prob2ds = {k:v for k, v in zip(pool.drop_duplicates(subset='prob')['prob'], pool.drop_duplicates(subset='prob')['task'])}"
   ]
  },
  {
   "cell_type": "code",
   "execution_count": 36,
   "metadata": {},
   "outputs": [],
   "source": [
    "new['ds'] = new['prob'].apply(lambda x: prob2ds[x])\n",
    "new['ds_code'] = new['ds'].map({'math': 1, 'logimath': 2})"
   ]
  },
  {
   "cell_type": "code",
   "execution_count": 37,
   "metadata": {},
   "outputs": [
    {
     "data": {
      "text/html": [
       "<div>\n",
       "<style scoped>\n",
       "    .dataframe tbody tr th:only-of-type {\n",
       "        vertical-align: middle;\n",
       "    }\n",
       "\n",
       "    .dataframe tbody tr th {\n",
       "        vertical-align: top;\n",
       "    }\n",
       "\n",
       "    .dataframe thead th {\n",
       "        text-align: right;\n",
       "    }\n",
       "</style>\n",
       "<table border=\"1\" class=\"dataframe\">\n",
       "  <thead>\n",
       "    <tr style=\"text-align: right;\">\n",
       "      <th></th>\n",
       "      <th>prob</th>\n",
       "      <th>sol</th>\n",
       "      <th>mean_correct</th>\n",
       "      <th>entropy</th>\n",
       "      <th>ds</th>\n",
       "      <th>ds_code</th>\n",
       "    </tr>\n",
       "  </thead>\n",
       "  <tbody>\n",
       "    <tr>\n",
       "      <th>0</th>\n",
       "      <td>Если сложить 11 и 12, то получится 23, умножен...</td>\n",
       "      <td>[D, D, D, D, D]</td>\n",
       "      <td>1.0</td>\n",
       "      <td>0.0</td>\n",
       "      <td>math</td>\n",
       "      <td>1</td>\n",
       "    </tr>\n",
       "    <tr>\n",
       "      <th>1</th>\n",
       "      <td>Если к -35, умноженному на s, прибавить 9, то ...</td>\n",
       "      <td>[C, C, C, C, C]</td>\n",
       "      <td>1.0</td>\n",
       "      <td>0.0</td>\n",
       "      <td>math</td>\n",
       "      <td>1</td>\n",
       "    </tr>\n",
       "    <tr>\n",
       "      <th>2</th>\n",
       "      <td>Если из -r вычесть 5, то получится -g. Если из...</td>\n",
       "      <td>[B, B, B, B, B]</td>\n",
       "      <td>1.0</td>\n",
       "      <td>0.0</td>\n",
       "      <td>math</td>\n",
       "      <td>1</td>\n",
       "    </tr>\n",
       "  </tbody>\n",
       "</table>\n",
       "</div>"
      ],
      "text/plain": [
       "                                                prob              sol  \\\n",
       "0  Если сложить 11 и 12, то получится 23, умножен...  [D, D, D, D, D]   \n",
       "1  Если к -35, умноженному на s, прибавить 9, то ...  [C, C, C, C, C]   \n",
       "2  Если из -r вычесть 5, то получится -g. Если из...  [B, B, B, B, B]   \n",
       "\n",
       "   mean_correct  entropy    ds  ds_code  \n",
       "0           1.0      0.0  math        1  \n",
       "1           1.0      0.0  math        1  \n",
       "2           1.0      0.0  math        1  "
      ]
     },
     "execution_count": 37,
     "metadata": {},
     "output_type": "execute_result"
    }
   ],
   "source": [
    "new.head(3)"
   ]
  },
  {
   "cell_type": "code",
   "execution_count": 38,
   "metadata": {},
   "outputs": [],
   "source": [
    "def corrs(arr1, arr2):\n",
    "    return {\n",
    "        \"Pearson corr\": stats.pearsonr(arr1, arr2)[0],\n",
    "        \"Spearman corr\": stats.spearmanr(arr1, arr2)[0],\n",
    "        \"Kendall corr\": stats.kendalltau(arr1, arr2)[0],\n",
    "    }"
   ]
  },
  {
   "cell_type": "markdown",
   "metadata": {},
   "source": [
    "Посмотрим, есть ли какие-нибудь корреляции в полученном датасете."
   ]
  },
  {
   "cell_type": "code",
   "execution_count": 39,
   "metadata": {},
   "outputs": [
    {
     "name": "stdout",
     "output_type": "stream",
     "text": [
      "Корреляция с энтропией\n"
     ]
    },
    {
     "data": {
      "text/html": [
       "<div>\n",
       "<style scoped>\n",
       "    .dataframe tbody tr th:only-of-type {\n",
       "        vertical-align: middle;\n",
       "    }\n",
       "\n",
       "    .dataframe tbody tr th {\n",
       "        vertical-align: top;\n",
       "    }\n",
       "\n",
       "    .dataframe thead th {\n",
       "        text-align: right;\n",
       "    }\n",
       "</style>\n",
       "<table border=\"1\" class=\"dataframe\">\n",
       "  <thead>\n",
       "    <tr style=\"text-align: right;\">\n",
       "      <th></th>\n",
       "      <th>Pearson corr</th>\n",
       "      <th>Spearman corr</th>\n",
       "      <th>Kendall corr</th>\n",
       "    </tr>\n",
       "  </thead>\n",
       "  <tbody>\n",
       "    <tr>\n",
       "      <th>Средняя корректность ответов размечтиков на задание</th>\n",
       "      <td>-0.949</td>\n",
       "      <td>-0.999</td>\n",
       "      <td>-0.994</td>\n",
       "    </tr>\n",
       "    <tr>\n",
       "      <th>Номер датасета (MathQA или MathLogicQA)</th>\n",
       "      <td>-0.100</td>\n",
       "      <td>-0.102</td>\n",
       "      <td>-0.099</td>\n",
       "    </tr>\n",
       "    <tr>\n",
       "      <th>Длина задания</th>\n",
       "      <td>0.161</td>\n",
       "      <td>0.190</td>\n",
       "      <td>0.153</td>\n",
       "    </tr>\n",
       "  </tbody>\n",
       "</table>\n",
       "</div>"
      ],
      "text/plain": [
       "                                                    Pearson corr  \\\n",
       "Средняя корректность ответов размечтиков на зад...        -0.949   \n",
       "Номер датасета (MathQA или MathLogicQA)                   -0.100   \n",
       "Длина задания                                              0.161   \n",
       "\n",
       "                                                    Spearman corr  \\\n",
       "Средняя корректность ответов размечтиков на зад...         -0.999   \n",
       "Номер датасета (MathQA или MathLogicQA)                    -0.102   \n",
       "Длина задания                                               0.190   \n",
       "\n",
       "                                                    Kendall corr  \n",
       "Средняя корректность ответов размечтиков на зад...        -0.994  \n",
       "Номер датасета (MathQA или MathLogicQA)                   -0.099  \n",
       "Длина задания                                              0.153  "
      ]
     },
     "execution_count": 39,
     "metadata": {},
     "output_type": "execute_result"
    }
   ],
   "source": [
    "print(\"Корреляция с энтропией\")\n",
    "pd.DataFrame({\n",
    "    \"Средняя корректность ответов размечтиков на задание\": corrs(new['mean_correct'], new['entropy']),\n",
    "    \"Номер датасета (MathQA или MathLogicQA)\": corrs(new['entropy'], new['ds_code']),\n",
    "    \"Длина задания\": corrs(new['entropy'], new['prob'].apply(len)),\n",
    "}).round(3).transpose()"
   ]
  },
  {
   "cell_type": "markdown",
   "metadata": {},
   "source": [
    "Чем больше в среднем разметчики верно ответили на задание, тем меньше энтропия, ведь неправильных ответов меньше. Длина задания почти не влияет на энтропию."
   ]
  },
  {
   "cell_type": "code",
   "execution_count": 40,
   "metadata": {},
   "outputs": [
    {
     "name": "stdout",
     "output_type": "stream",
     "text": [
      "Корреляция со средней корректностью ответов на каждое задание\n"
     ]
    },
    {
     "data": {
      "text/html": [
       "<div>\n",
       "<style scoped>\n",
       "    .dataframe tbody tr th:only-of-type {\n",
       "        vertical-align: middle;\n",
       "    }\n",
       "\n",
       "    .dataframe tbody tr th {\n",
       "        vertical-align: top;\n",
       "    }\n",
       "\n",
       "    .dataframe thead th {\n",
       "        text-align: right;\n",
       "    }\n",
       "</style>\n",
       "<table border=\"1\" class=\"dataframe\">\n",
       "  <thead>\n",
       "    <tr style=\"text-align: right;\">\n",
       "      <th></th>\n",
       "      <th>Pearson corr</th>\n",
       "      <th>Spearman corr</th>\n",
       "      <th>Kendall corr</th>\n",
       "    </tr>\n",
       "  </thead>\n",
       "  <tbody>\n",
       "    <tr>\n",
       "      <th>Номер датасета (MathQA или MathLogicQA)</th>\n",
       "      <td>0.104</td>\n",
       "      <td>0.103</td>\n",
       "      <td>0.100</td>\n",
       "    </tr>\n",
       "    <tr>\n",
       "      <th>Длина задания</th>\n",
       "      <td>-0.155</td>\n",
       "      <td>-0.190</td>\n",
       "      <td>-0.153</td>\n",
       "    </tr>\n",
       "  </tbody>\n",
       "</table>\n",
       "</div>"
      ],
      "text/plain": [
       "                                         Pearson corr  Spearman corr  \\\n",
       "Номер датасета (MathQA или MathLogicQA)         0.104          0.103   \n",
       "Длина задания                                  -0.155         -0.190   \n",
       "\n",
       "                                         Kendall corr  \n",
       "Номер датасета (MathQA или MathLogicQA)         0.100  \n",
       "Длина задания                                  -0.153  "
      ]
     },
     "execution_count": 40,
     "metadata": {},
     "output_type": "execute_result"
    }
   ],
   "source": [
    "print(\"Корреляция со средней корректностью ответов на каждое задание\")\n",
    "pd.DataFrame({\n",
    "    \"Номер датасета (MathQA или MathLogicQA)\": corrs(new['mean_correct'], new['ds_code']),\n",
    "    \"Длина задания\":corrs(new['mean_correct'], new['prob'].apply(len)),\n",
    "}).round(3).transpose()"
   ]
  },
  {
   "cell_type": "markdown",
   "metadata": {},
   "source": [
    "А вот с датасетом никакой связи нет. Получается, ошибки не особо зависят от конкретного датасета. Длина задачи снова совсем немного влияет на точность и согласованность."
   ]
  },
  {
   "cell_type": "markdown",
   "metadata": {},
   "source": [
    "Теперь посмотрим на отдельные ответы разметчиков."
   ]
  },
  {
   "cell_type": "code",
   "execution_count": 41,
   "metadata": {},
   "outputs": [],
   "source": [
    "pool['cor'] = pool['cor'].astype(int)\n",
    "pool['ds_code'] = pool['task'].map({'math': 1, 'logimath': 2})"
   ]
  },
  {
   "cell_type": "code",
   "execution_count": 42,
   "metadata": {},
   "outputs": [
    {
     "name": "stdout",
     "output_type": "stream",
     "text": [
      "Корреляция с корректностью ответа на задание\n"
     ]
    },
    {
     "data": {
      "text/html": [
       "<div>\n",
       "<style scoped>\n",
       "    .dataframe tbody tr th:only-of-type {\n",
       "        vertical-align: middle;\n",
       "    }\n",
       "\n",
       "    .dataframe tbody tr th {\n",
       "        vertical-align: top;\n",
       "    }\n",
       "\n",
       "    .dataframe thead th {\n",
       "        text-align: right;\n",
       "    }\n",
       "</style>\n",
       "<table border=\"1\" class=\"dataframe\">\n",
       "  <thead>\n",
       "    <tr style=\"text-align: right;\">\n",
       "      <th></th>\n",
       "      <th>Pearson corr</th>\n",
       "      <th>Spearman corr</th>\n",
       "      <th>Kendall corr</th>\n",
       "    </tr>\n",
       "  </thead>\n",
       "  <tbody>\n",
       "    <tr>\n",
       "      <th>Номер датасета (MathQA или MathLogicQA)</th>\n",
       "      <td>0.055</td>\n",
       "      <td>0.055</td>\n",
       "      <td>0.055</td>\n",
       "    </tr>\n",
       "    <tr>\n",
       "      <th>Длина задания</th>\n",
       "      <td>-0.083</td>\n",
       "      <td>-0.100</td>\n",
       "      <td>-0.082</td>\n",
       "    </tr>\n",
       "  </tbody>\n",
       "</table>\n",
       "</div>"
      ],
      "text/plain": [
       "                                         Pearson corr  Spearman corr  \\\n",
       "Номер датасета (MathQA или MathLogicQA)         0.055          0.055   \n",
       "Длина задания                                  -0.083         -0.100   \n",
       "\n",
       "                                         Kendall corr  \n",
       "Номер датасета (MathQA или MathLogicQA)         0.055  \n",
       "Длина задания                                  -0.082  "
      ]
     },
     "execution_count": 42,
     "metadata": {},
     "output_type": "execute_result"
    }
   ],
   "source": [
    "print(\"Корреляция с корректностью ответа на задание\")\n",
    "pd.DataFrame({\n",
    "    \"Номер датасета (MathQA или MathLogicQA)\": corrs(pool['cor'], pool['ds_code']),\n",
    "    \"Длина задания\": corrs(pool['cor'], pool['prob'].apply(len)),\n",
    "}).round(3).transpose()"
   ]
  },
  {
   "cell_type": "markdown",
   "metadata": {},
   "source": [
    "Снова никакой связи между правильными ответами (или ошибками) и датасетом или длиной задачи. Может варианты ответа влияют? Например, если ответ не числовой, то ошбки могут расти."
   ]
  },
  {
   "cell_type": "code",
   "execution_count": 43,
   "metadata": {},
   "outputs": [],
   "source": [
    "pool['lit_ops'] = pool['op1'].apply(lambda x: x[0].isalpha()).astype(int)"
   ]
  },
  {
   "cell_type": "code",
   "execution_count": 44,
   "metadata": {},
   "outputs": [
    {
     "name": "stdout",
     "output_type": "stream",
     "text": [
      "Корреляция с корректностью ответа на задание\n"
     ]
    },
    {
     "data": {
      "text/html": [
       "<div>\n",
       "<style scoped>\n",
       "    .dataframe tbody tr th:only-of-type {\n",
       "        vertical-align: middle;\n",
       "    }\n",
       "\n",
       "    .dataframe tbody tr th {\n",
       "        vertical-align: top;\n",
       "    }\n",
       "\n",
       "    .dataframe thead th {\n",
       "        text-align: right;\n",
       "    }\n",
       "</style>\n",
       "<table border=\"1\" class=\"dataframe\">\n",
       "  <thead>\n",
       "    <tr style=\"text-align: right;\">\n",
       "      <th></th>\n",
       "      <th>Kendall corr</th>\n",
       "      <th>Pearson corr</th>\n",
       "      <th>Spearman corr</th>\n",
       "    </tr>\n",
       "  </thead>\n",
       "  <tbody>\n",
       "    <tr>\n",
       "      <th>Буквенный ответ</th>\n",
       "      <td>-0.11</td>\n",
       "      <td>-0.11</td>\n",
       "      <td>-0.11</td>\n",
       "    </tr>\n",
       "  </tbody>\n",
       "</table>\n",
       "</div>"
      ],
      "text/plain": [
       "                 Kendall corr  Pearson corr  Spearman corr\n",
       "Буквенный ответ         -0.11         -0.11          -0.11"
      ]
     },
     "execution_count": 44,
     "metadata": {},
     "output_type": "execute_result"
    }
   ],
   "source": [
    "print(\"Корреляция с корректностью ответа на задание\")\n",
    "pd.DataFrame({\n",
    "    \"Буквенный ответ\": corrs(pool['cor'], pool['lit_ops']),\n",
    "}).round(3).transpose()"
   ]
  },
  {
   "cell_type": "markdown",
   "metadata": {},
   "source": [
    "Нечисловые варианты ответа почти никак не влияют на результат. Может быть переменные в задаче влияют на результат?"
   ]
  },
  {
   "cell_type": "markdown",
   "metadata": {},
   "source": [
    "Достанем наименования неизвестных для уравнений."
   ]
  },
  {
   "cell_type": "code",
   "execution_count": 45,
   "metadata": {},
   "outputs": [],
   "source": [
    "def get_symbs(obj):\n",
    "    return list(set(list(filter(lambda y: not y.isdigit(), list(filter(lambda z: len(z) == 1, list(map(lambda x: x[:-1].strip() if (x.endswith(',') or x.endswith('.')) else x, obj.split()))))))))"
   ]
  },
  {
   "cell_type": "code",
   "execution_count": 46,
   "metadata": {},
   "outputs": [],
   "source": [
    "def filt_symbs(obj):\n",
    "    lst = get_symbs(obj)\n",
    "    lst = list(filter(lambda x: ord(x) < 130, lst))\n",
    "    return list(filter(lambda x: x.isalpha(), lst))"
   ]
  },
  {
   "cell_type": "code",
   "execution_count": 47,
   "metadata": {},
   "outputs": [],
   "source": [
    "pool['vars'] = pool['prob'].apply(filt_symbs)"
   ]
  },
  {
   "cell_type": "code",
   "execution_count": 48,
   "metadata": {},
   "outputs": [
    {
     "name": "stdout",
     "output_type": "stream",
     "text": [
      "Корреляция с корректностью ответа на задание\n"
     ]
    },
    {
     "data": {
      "text/html": [
       "<div>\n",
       "<style scoped>\n",
       "    .dataframe tbody tr th:only-of-type {\n",
       "        vertical-align: middle;\n",
       "    }\n",
       "\n",
       "    .dataframe tbody tr th {\n",
       "        vertical-align: top;\n",
       "    }\n",
       "\n",
       "    .dataframe thead th {\n",
       "        text-align: right;\n",
       "    }\n",
       "</style>\n",
       "<table border=\"1\" class=\"dataframe\">\n",
       "  <thead>\n",
       "    <tr style=\"text-align: right;\">\n",
       "      <th></th>\n",
       "      <th>Kendall corr</th>\n",
       "      <th>Pearson corr</th>\n",
       "      <th>Spearman corr</th>\n",
       "    </tr>\n",
       "  </thead>\n",
       "  <tbody>\n",
       "    <tr>\n",
       "      <th>Количество переменных</th>\n",
       "      <td>-0.137</td>\n",
       "      <td>-0.143</td>\n",
       "      <td>-0.143</td>\n",
       "    </tr>\n",
       "  </tbody>\n",
       "</table>\n",
       "</div>"
      ],
      "text/plain": [
       "                       Kendall corr  Pearson corr  Spearman corr\n",
       "Количество переменных        -0.137        -0.143         -0.143"
      ]
     },
     "execution_count": 48,
     "metadata": {},
     "output_type": "execute_result"
    }
   ],
   "source": [
    "print(\"Корреляция с корректностью ответа на задание\")\n",
    "pd.DataFrame({\n",
    "    \"Количество переменных\": corrs(pool['cor'], pool['vars'].apply(len)),\n",
    "}).round(3).transpose()"
   ]
  },
  {
   "cell_type": "markdown",
   "metadata": {},
   "source": [
    "Количество неизвестных очень слабо влияет."
   ]
  },
  {
   "cell_type": "code",
   "execution_count": 49,
   "metadata": {},
   "outputs": [],
   "source": [
    "new['vars'] = new['prob'].apply(filt_symbs)"
   ]
  },
  {
   "cell_type": "code",
   "execution_count": 50,
   "metadata": {},
   "outputs": [
    {
     "name": "stdout",
     "output_type": "stream",
     "text": [
      "Корреляция с количеством неизвестных в условии задания\n"
     ]
    },
    {
     "data": {
      "text/html": [
       "<div>\n",
       "<style scoped>\n",
       "    .dataframe tbody tr th:only-of-type {\n",
       "        vertical-align: middle;\n",
       "    }\n",
       "\n",
       "    .dataframe tbody tr th {\n",
       "        vertical-align: top;\n",
       "    }\n",
       "\n",
       "    .dataframe thead th {\n",
       "        text-align: right;\n",
       "    }\n",
       "</style>\n",
       "<table border=\"1\" class=\"dataframe\">\n",
       "  <thead>\n",
       "    <tr style=\"text-align: right;\">\n",
       "      <th></th>\n",
       "      <th>Pearson corr</th>\n",
       "      <th>Spearman corr</th>\n",
       "      <th>Kendall corr</th>\n",
       "    </tr>\n",
       "  </thead>\n",
       "  <tbody>\n",
       "    <tr>\n",
       "      <th>Средняя корректность ответов разметчиков на задание</th>\n",
       "      <td>-0.267</td>\n",
       "      <td>-0.266</td>\n",
       "      <td>-0.246</td>\n",
       "    </tr>\n",
       "    <tr>\n",
       "      <th>Энтропия ответов разметчиков на задание</th>\n",
       "      <td>0.270</td>\n",
       "      <td>0.266</td>\n",
       "      <td>0.246</td>\n",
       "    </tr>\n",
       "  </tbody>\n",
       "</table>\n",
       "</div>"
      ],
      "text/plain": [
       "                                                    Pearson corr  \\\n",
       "Средняя корректность ответов разметчиков на зад...        -0.267   \n",
       "Энтропия ответов разметчиков на задание                    0.270   \n",
       "\n",
       "                                                    Spearman corr  \\\n",
       "Средняя корректность ответов разметчиков на зад...         -0.266   \n",
       "Энтропия ответов разметчиков на задание                     0.266   \n",
       "\n",
       "                                                    Kendall corr  \n",
       "Средняя корректность ответов разметчиков на зад...        -0.246  \n",
       "Энтропия ответов разметчиков на задание                    0.246  "
      ]
     },
     "execution_count": 50,
     "metadata": {},
     "output_type": "execute_result"
    }
   ],
   "source": [
    "print(\"Корреляция с количеством неизвестных в условии задания\")\n",
    "pd.DataFrame({\n",
    "    \"Средняя корректность ответов разметчиков на задание\": corrs(new['mean_correct'], new['vars'].apply(len)),\n",
    "    \"Энтропия ответов разметчиков на задание\": corrs(new['entropy'], new['vars'].apply(len)),\n",
    "}).round(3).transpose()"
   ]
  },
  {
   "cell_type": "markdown",
   "metadata": {},
   "source": [
    "А вот на среднюю точность очень даже влияет - хоть какой-то результат..."
   ]
  },
  {
   "cell_type": "markdown",
   "metadata": {},
   "source": [
    "А что, если есть конкретные наименования переменных, которые влияют на результат. Достанем названия неизвестных."
   ]
  },
  {
   "cell_type": "code",
   "execution_count": 51,
   "metadata": {},
   "outputs": [],
   "source": [
    "all_vars = sorted(list(set(list(map(lambda x: x.lower(), set(new['vars'].sum()))))))"
   ]
  },
  {
   "cell_type": "markdown",
   "metadata": {},
   "source": [
    "Посчитаем корреляции сердней корректности и энтропии ответов разметчиков на задание с наличием конкретной переменной в задании."
   ]
  },
  {
   "cell_type": "code",
   "execution_count": 52,
   "metadata": {},
   "outputs": [],
   "source": [
    "var_cor = {}\n",
    "var_ent = {}\n",
    "for i in range(len(all_vars)):\n",
    "    var_name = all_vars[i]\n",
    "    mask = new['vars'].apply(lambda x: var_name in x)\n",
    "    corr1 = stats.pearsonr(new['mean_correct'], mask)[0]\n",
    "    corr2 = stats.pearsonr(new['entropy'], mask)[0]\n",
    "    var_cor[var_name] = corr1\n",
    "    var_ent[var_name] = corr2"
   ]
  },
  {
   "cell_type": "code",
   "execution_count": 53,
   "metadata": {},
   "outputs": [],
   "source": [
    "import matplotlib.pyplot as plt"
   ]
  },
  {
   "cell_type": "code",
   "execution_count": 54,
   "metadata": {},
   "outputs": [
    {
     "data": {
      "image/png": "[encoded data removed]",
      "text/plain": [
       "<Figure size 700x500 with 1 Axes>"
      ]
     },
     "metadata": {},
     "output_type": "display_data"
    }
   ],
   "source": [
    "plt.figure(figsize=(7, 5))\n",
    "plt.title('Correlations between different VARS and CORRECT/ENTROPY', weight='bold')\n",
    "plt.plot(var_cor.values(), c='b', label='corr_correct')\n",
    "plt.plot(var_ent.values(), c='r', label='corr_entropy')\n",
    "plt.xlabel('vars', size=12)\n",
    "plt.ylabel('Pearson correlation', size=12)\n",
    "plt.legend(loc='lower right')\n",
    "plt.xticks(ticks=range(len(all_vars)), labels=list(var_cor.keys()))\n",
    "plt.show()"
   ]
  },
  {
   "cell_type": "markdown",
   "metadata": {},
   "source": [
    "В абсолютных значениях связи особой нет. Но в относительных значениях видно, что переменная с именем `j` странным образом связана с ошибками. Но такая связь крайне сомнительна, так как сложность зависит от самой задачи в первую очередь, плюс задач с разными переменными не одинаковое количество, а также есть много задач с двумя неизвестными.\n",
    "\n",
    "Возможно, для отдельных ответов разметчиков свзяь будет более явной и значимой."
   ]
  },
  {
   "cell_type": "code",
   "execution_count": 55,
   "metadata": {},
   "outputs": [],
   "source": [
    "var_cor = {}\n",
    "for i in range(len(all_vars)):\n",
    "    var_name = all_vars[i]\n",
    "    mask = pool['vars'].apply(lambda x: var_name in x)\n",
    "    corr1 = stats.pearsonr(pool['cor'], mask)[0]\n",
    "    var_cor[var_name] = corr1"
   ]
  },
  {
   "cell_type": "code",
   "execution_count": 56,
   "metadata": {},
   "outputs": [
    {
     "data": {
      "image/png": "[encoded data removed]",
      "text/plain": [
       "<Figure size 700x500 with 1 Axes>"
      ]
     },
     "metadata": {},
     "output_type": "display_data"
    }
   ],
   "source": [
    "plt.figure(figsize=(7, 5))\n",
    "plt.title('Correlations between different VARS and CORRECT', weight='bold')\n",
    "plt.plot(var_cor.values(), c='b', label='corr_correct')\n",
    "plt.xlabel('vars', size=12)\n",
    "plt.ylabel('Pearson correlation', size=12)\n",
    "plt.legend(loc='lower right')\n",
    "plt.xticks(ticks=range(len(all_vars)), labels=list(var_cor.keys()))\n",
    "plt.show()"
   ]
  },
  {
   "cell_type": "markdown",
   "metadata": {},
   "source": [
    "Нет, график очень похож на предыдущий. Однако значения корреляций слишком малы, чтобы можно было делать вывод о наличии зависимости."
   ]
  }
 ],
 "metadata": {
  "kernelspec": {
   "display_name": "Python 3",
   "language": "python",
   "name": "python3"
  },
  "language_info": {
   "codemirror_mode": {
    "name": "ipython",
    "version": 3
   },
   "file_extension": ".py",
   "mimetype": "text/x-python",
   "name": "python",
   "nbconvert_exporter": "python",
   "pygments_lexer": "ipython3",
   "version": "3.11.4"
  },
  "orig_nbformat": 4
 },
 "nbformat": 4,
 "nbformat_minor": 2
}
