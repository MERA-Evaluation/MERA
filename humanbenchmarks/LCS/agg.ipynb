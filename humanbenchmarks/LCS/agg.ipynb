{
 "cells": [
  {
   "cell_type": "markdown",
   "metadata": {},
   "source": [
    "## Аггрегация разметки датасета LCS"
   ]
  },
  {
   "cell_type": "markdown",
   "metadata": {},
   "source": [
    "Аггрегация строится по следующей системе:\n",
    "\n",
    "1. Сбор размеченных пулов с Толоки. Возможны варианты:\n",
    "    - только общий пул нужно аггрегировать, тогда забирается только он\n",
    "    - часть данных находится в контрольных заданиях и экзамене, тогда к основному пулу добавляются данные задания\n",
    "2. Фильтрация разметчиков:\n",
    "    - в общем пуле есть некоторое количество заранее размеченных заданий - контрольных\n",
    "    - хорошим считается разметчик, который показывает `accuracy >= 0.5` на данных заданиях\n",
    "    - формируется список \"плохих\" разметчиков\n",
    "3. Аггрегация ответов разметчиков по заданиям:\n",
    "    - форматирование в заданиях может отличаться от изначального из-за выгрузки с Толоки\n",
    "    - учитываются только ответы \"хороших\" разметчиков\n",
    "    - аггрегация по подготовленным пулам - создается массив карточек вида {key: value}, где key - кортеж из всех значимых элементов задания, value - список из кортежей вида (user_id, answer)\n",
    "4. Голосование большинством по каждому заданию:\n",
    "    - минимально необходимое большинство составляет 3 голоса, так как такое большинство валидно для перекрытия 5\n",
    "    - по результату формируется датафрейм с заданиями и ответами\n",
    "5. Подгрузка оригинальных данных с разметкой в виде таблицы с заданиями и ответами\n",
    "6. Соединение таблиц:\n",
    "    - очистка форматирования в таблице с ответами разметчиков и в таблице с правильными ответами\n",
    "    - создание единых столбцов с полным заданием\n",
    "    - соединение таблиц по данному столбцу\n",
    "    - валидация размеров\n",
    "7. Подсчет метрик"
   ]
  },
  {
   "cell_type": "code",
   "execution_count": 1,
   "metadata": {},
   "outputs": [],
   "source": [
    "import pandas as pd\n",
    "from collections import Counter\n",
    "import numpy as np"
   ]
  },
  {
   "cell_type": "markdown",
   "metadata": {},
   "source": [
    "### Сбор данных разметки и фильтрация разметчиков"
   ]
  },
  {
   "cell_type": "markdown",
   "metadata": {},
   "source": [
    "Датасет проходил разметку одним пулом из 100 сгенерированных специально объектов в формате оригинального датасета."
   ]
  },
  {
   "cell_type": "code",
   "execution_count": 2,
   "metadata": {},
   "outputs": [],
   "source": [
    "assignments = pd.read_csv('test_pool.tsv', sep='\\t')\n",
    "skills = pd.read_csv('workerSkills.csv', sep='|')"
   ]
  },
  {
   "cell_type": "markdown",
   "metadata": {},
   "source": [
    "Разметчикам предлагалось на основании имеющихся двух строковых последовательностей ответить на вопрос, какова длина наибольшей общей подпоследовательности целым числом.\n",
    "\n",
    "Вход: \n",
    "- INPUT:string1 (пример: `CTXMKP`).\n",
    "- INPUT:string2 (пример: `OEOPDQRI`).\n",
    "\n",
    "Выход:\n",
    "- OUTPUT:length (целое число, например: `1`)."
   ]
  },
  {
   "cell_type": "code",
   "execution_count": 3,
   "metadata": {},
   "outputs": [
    {
     "data": {
      "text/html": [
       "<div>\n",
       "<style scoped>\n",
       "    .dataframe tbody tr th:only-of-type {\n",
       "        vertical-align: middle;\n",
       "    }\n",
       "\n",
       "    .dataframe tbody tr th {\n",
       "        vertical-align: top;\n",
       "    }\n",
       "\n",
       "    .dataframe thead th {\n",
       "        text-align: right;\n",
       "    }\n",
       "</style>\n",
       "<table border=\"1\" class=\"dataframe\">\n",
       "  <thead>\n",
       "    <tr style=\"text-align: right;\">\n",
       "      <th></th>\n",
       "      <th>INPUT:string1</th>\n",
       "      <th>INPUT:string2</th>\n",
       "      <th>OUTPUT:length</th>\n",
       "      <th>GOLDEN:length</th>\n",
       "      <th>HINT:text</th>\n",
       "      <th>HINT:default_language</th>\n",
       "      <th>ASSIGNMENT:link</th>\n",
       "      <th>ASSIGNMENT:task_id</th>\n",
       "      <th>ASSIGNMENT:assignment_id</th>\n",
       "      <th>ASSIGNMENT:task_suite_id</th>\n",
       "      <th>ASSIGNMENT:worker_id</th>\n",
       "      <th>ASSIGNMENT:status</th>\n",
       "      <th>ASSIGNMENT:started</th>\n",
       "      <th>ASSIGNMENT:submitted</th>\n",
       "      <th>ASSIGNMENT:accepted</th>\n",
       "      <th>ASSIGNMENT:reward</th>\n",
       "    </tr>\n",
       "  </thead>\n",
       "  <tbody>\n",
       "    <tr>\n",
       "      <th>0</th>\n",
       "      <td>HNPUSKVDLLLKOS</td>\n",
       "      <td>VQJSBYODNEITFC</td>\n",
       "      <td>1</td>\n",
       "      <td>NaN</td>\n",
       "      <td>NaN</td>\n",
       "      <td>NaN</td>\n",
       "      <td>https://platform.toloka.ai/task/41565705/00027...</td>\n",
       "      <td>00027a3e09--6516f36c15b13a5af6053978</td>\n",
       "      <td>00027a3e09--6516f6510ab55c42a0d8d0b0</td>\n",
       "      <td>00027a3e09--6516f6510ab55c42a0d8d0ae</td>\n",
       "      <td>4c4133aeef5b4ac1092c735ede3147ac</td>\n",
       "      <td>APPROVED</td>\n",
       "      <td>2023-09-29T16:07:45.508</td>\n",
       "      <td>2023-09-29T16:08:40.445</td>\n",
       "      <td>2023-09-29T16:08:40.445</td>\n",
       "      <td>0.029</td>\n",
       "    </tr>\n",
       "  </tbody>\n",
       "</table>\n",
       "</div>"
      ],
      "text/plain": [
       "    INPUT:string1   INPUT:string2  OUTPUT:length  GOLDEN:length  HINT:text  \\\n",
       "0  HNPUSKVDLLLKOS  VQJSBYODNEITFC              1            NaN        NaN   \n",
       "\n",
       "   HINT:default_language                                    ASSIGNMENT:link  \\\n",
       "0                    NaN  https://platform.toloka.ai/task/41565705/00027...   \n",
       "\n",
       "                     ASSIGNMENT:task_id              ASSIGNMENT:assignment_id  \\\n",
       "0  00027a3e09--6516f36c15b13a5af6053978  00027a3e09--6516f6510ab55c42a0d8d0b0   \n",
       "\n",
       "               ASSIGNMENT:task_suite_id              ASSIGNMENT:worker_id  \\\n",
       "0  00027a3e09--6516f6510ab55c42a0d8d0ae  4c4133aeef5b4ac1092c735ede3147ac   \n",
       "\n",
       "  ASSIGNMENT:status       ASSIGNMENT:started     ASSIGNMENT:submitted  \\\n",
       "0          APPROVED  2023-09-29T16:07:45.508  2023-09-29T16:08:40.445   \n",
       "\n",
       "       ASSIGNMENT:accepted  ASSIGNMENT:reward  \n",
       "0  2023-09-29T16:08:40.445              0.029  "
      ]
     },
     "execution_count": 3,
     "metadata": {},
     "output_type": "execute_result"
    }
   ],
   "source": [
    "assignments.head(1)"
   ]
  },
  {
   "cell_type": "markdown",
   "metadata": {},
   "source": [
    "Фильтруем толокеров, которые дали меньше половины корректных ответов на контрольных заданиях."
   ]
  },
  {
   "cell_type": "code",
   "execution_count": 4,
   "metadata": {},
   "outputs": [
    {
     "name": "stdout",
     "output_type": "stream",
     "text": [
      "Users total: 29\n",
      "Bad users: 3\n"
     ]
    }
   ],
   "source": [
    "from collections import defaultdict\n",
    "\n",
    "users_dict = defaultdict(lambda: defaultdict(int))\n",
    "\n",
    "for idx, row in assignments.iterrows():\n",
    "    s1 = row[0]\n",
    "    s2 = row[1]\n",
    "\n",
    "    out = row[2]\n",
    "    \n",
    "    gold = row[3]\n",
    "\n",
    "    user = row[10]\n",
    "\n",
    "    if str(user) != \"nan\" and str(gold) != \"nan\":\n",
    "        if out == int(gold):\n",
    "            users_dict[user][\"good\"] += 1\n",
    "        else:\n",
    "            users_dict[user][\"bad\"] += 1\n",
    "\n",
    "print(f\"Users total: {len(users_dict)}\")\n",
    "bad_users = []\n",
    "for key, value in users_dict.items():\n",
    "    percentage_good = value[\"good\"]/(value[\"good\"] + value[\"bad\"])\n",
    "    if percentage_good < 0.5:\n",
    "        bad_users.append(key)\n",
    "\n",
    "print(f\"Bad users: {len(bad_users)}\")"
   ]
  },
  {
   "cell_type": "markdown",
   "metadata": {},
   "source": [
    "3 из 29 разметчиков на контрольных заданиях показали слишком плохое качество, чтобы учитывать их ответы для расчета метрики."
   ]
  },
  {
   "cell_type": "markdown",
   "metadata": {},
   "source": [
    "Теперь нужно оставить только основной пул. Контролки генерировались отдельно от самой подвыборки, поэтому их учитывать нельзя. На контрольных заданиях есть `GOLDEN:length`. Также отсеиваем возможные баги Толоки, когда в строке может не быть задания - `INPUT:string1` содержит NaN."
   ]
  },
  {
   "cell_type": "code",
   "execution_count": 5,
   "metadata": {},
   "outputs": [],
   "source": [
    "assignments_no_control = assignments[assignments['GOLDEN:length'].isnull()]\n",
    "assignments_no_control_no_null = assignments_no_control[assignments_no_control['INPUT:string1'].notnull()]"
   ]
  },
  {
   "cell_type": "markdown",
   "metadata": {},
   "source": [
    "Посчитаем, сколько было затрачено на получение разметки тестовых данных без учета контрольных заданий, так как они могли проходиться неограниченное количество раз одним и тем же разметчиком."
   ]
  },
  {
   "cell_type": "code",
   "execution_count": 6,
   "metadata": {},
   "outputs": [
    {
     "name": "stdout",
     "output_type": "stream",
     "text": [
      "взвешенная цена айтема в тесте: 0.029\n",
      "потрачено на разметку теста: 14.5\n",
      "14.5 / 0.029\n"
     ]
    }
   ],
   "source": [
    "def w_sum(df):\n",
    "    idx = df.index.values\n",
    "    vals = df.values\n",
    "    summ = idx * vals\n",
    "    return summ.sum()\n",
    "\n",
    "d1 = assignments_no_control_no_null['ASSIGNMENT:reward'].value_counts(normalize=True)\n",
    "d2 = assignments_no_control_no_null['ASSIGNMENT:reward'].value_counts()\n",
    "print(f'взвешенная цена айтема в тесте: {round(w_sum(d1), 3)}')\n",
    "print(f'потрачено на разметку теста: {round(w_sum(d2), 3)}')\n",
    "print(f'{round(w_sum(d2), 3)} / {round(w_sum(d1), 3)}')"
   ]
  },
  {
   "cell_type": "markdown",
   "metadata": {},
   "source": [
    "Выделим, сколько составила средняя часовая ставка для разметки тестовой части датасета. Это будет простое среднее из следующих величин: количество заданий, которое разметчк может сделать за час на основе данного задания, помноженное на цену задания."
   ]
  },
  {
   "cell_type": "code",
   "execution_count": 7,
   "metadata": {},
   "outputs": [
    {
     "data": {
      "text/plain": [
       "1.7303670255451353"
      ]
     },
     "execution_count": 7,
     "metadata": {},
     "output_type": "execute_result"
    }
   ],
   "source": [
    "def get_hour_pay(df):\n",
    "    try:\n",
    "        times = pd.to_datetime(df['ASSIGNMENT:submitted']) - pd.to_datetime(df['ASSIGNMENT:started'])\n",
    "    except Exception as e:\n",
    "        times = []\n",
    "        for i in range(len(df)):\n",
    "            try:\n",
    "                start = pd.to_datetime(df['ASSIGNMENT:started'].iloc[i])\n",
    "            except Exception as e:\n",
    "                start = pd.to_datetime(df['ASSIGNMENT:started'].apply(lambda x: x.split('T')[1]).iloc[i])\n",
    "            try:\n",
    "                end = pd.to_datetime(df['ASSIGNMENT:submitted'].iloc[i])\n",
    "            except Exception as e:\n",
    "                start = pd.to_datetime(df['ASSIGNMENT:submitted'].apply(lambda x: x.split('T')[1]).iloc[i])\n",
    "            delta = end - start\n",
    "            times.extend([delta])\n",
    "        times = pd.Series(times)\n",
    "        # times = pd.to_datetime(df['ASSIGNMENT:submitted'].apply(lambda x: x.split('T')[1])) - pd.to_datetime(df['ASSIGNMENT:started'].apply(lambda x: x.split('T')[1]))\n",
    "    sums = 3600 / times.apply(lambda x: x.seconds) * df['ASSIGNMENT:reward']\n",
    "    return sums.mean()\n",
    "\n",
    "get_hour_pay(assignments_no_control_no_null)"
   ]
  },
  {
   "cell_type": "markdown",
   "metadata": {},
   "source": [
    "### Сбор ответов разметчиков и голосование"
   ]
  },
  {
   "cell_type": "markdown",
   "metadata": {},
   "source": [
    "Собираем ответы голосования большинством для каждого задания."
   ]
  },
  {
   "cell_type": "code",
   "execution_count": 8,
   "metadata": {},
   "outputs": [
    {
     "name": "stdout",
     "output_type": "stream",
     "text": [
      "100\n"
     ]
    }
   ],
   "source": [
    "from collections import defaultdict\n",
    "\n",
    "text_dict = defaultdict(list)\n",
    "\n",
    "for s1, s2, user, out in zip(\n",
    "    assignments_no_control_no_null[\"INPUT:string1\"], assignments_no_control_no_null[\"INPUT:string2\"], \n",
    "    assignments_no_control_no_null[\"ASSIGNMENT:worker_id\"], assignments_no_control_no_null[\"OUTPUT:length\"]\n",
    "    ):\n",
    "    if user not in bad_users:\n",
    "        text_dict[(s1, s2)].append([\n",
    "                user,\n",
    "                {\"out\": out}\n",
    "        ])\n",
    "\n",
    "print(len(text_dict))"
   ]
  },
  {
   "cell_type": "code",
   "execution_count": 9,
   "metadata": {},
   "outputs": [
    {
     "data": {
      "text/plain": [
       "Counter({5: 92, 4: 8})"
      ]
     },
     "execution_count": 9,
     "metadata": {},
     "output_type": "execute_result"
    }
   ],
   "source": [
    "keys = list(text_dict.keys())\n",
    "Counter([len(text_dict[keys[i]]) for i in range(len(keys))])"
   ]
  },
  {
   "cell_type": "markdown",
   "metadata": {},
   "source": [
    "Есть 8 заданий с перекрытием 4. Для формирования итоговых лейблов нужно, чтобы было простое большинство разметчиков, проголосовавших за данную опцию. Если большинства нет, то оценка строится, исходя из оценки навыков разметчиков. В таком случае, финальный лейбл будет присвоен по голосу группы с наилучшими навыками."
   ]
  },
  {
   "cell_type": "code",
   "execution_count": 10,
   "metadata": {},
   "outputs": [],
   "source": [
    "preds_full = {}\n",
    "user2skill = {k:v for k, v in zip(skills['worker_id'], skills['skill_value'])}\n",
    "control_acc = assignments[assignments['GOLDEN:length'].notna()]\\\n",
    "    .groupby('ASSIGNMENT:worker_id')\\\n",
    "        .apply(lambda x: (np.array(x['OUTPUT:length']) == np.array(x['GOLDEN:length'])).mean())\n",
    "user2control = {k:v for k, v in zip(control_acc.index, control_acc.values)}\n",
    "\n",
    "from crowdkit.aggregation.classification.glad import GLAD\n",
    "\n",
    "full = assignments['INPUT:string1'] + ' ' + assignments['INPUT:string2']\n",
    "id2task = dict(enumerate(full))\n",
    "task2id = {k:v for v, k in id2task.items()}\n",
    "id2user = dict(enumerate(assignments['ASSIGNMENT:worker_id']))\n",
    "user2id = {k:v for v, k in id2user.items()}\n",
    "\n",
    "codes = full.map(task2id)\n",
    "res = pd.DataFrame({'task': codes, 'worker': assignments['ASSIGNMENT:worker_id'].map(user2id), 'label': assignments['OUTPUT:length']})\n",
    "model = GLAD(n_iter=10000, tol=1e-06, m_step_max_iter=1000, m_step_tol=1e-03)\n",
    "model.fit(res)\n",
    "user2alpha = dict(enumerate(model.alphas_))\n",
    "tb = model.alphas_.copy()\n",
    "tb.index = tb.index.map(id2user)\n",
    "user2alpha = {k:v for k, v in zip(tb.index, tb.values)}\n",
    "\n",
    "stats = {\n",
    "    'total_agreement': 0,\n",
    "    'majority': 0,\n",
    "    'skill_based': 0,\n",
    "    'major_based': 0,\n",
    "    'em_based': 0,\n",
    "    'rest': 0,\n",
    "}\n",
    "\n",
    "for i in range(len(keys)):\n",
    "    ans = text_dict[keys[i]]\n",
    "    lst = [[ans[j][0], ans[j][1]['out']] for j in range(len(ans))]\n",
    "    users, votes = list(zip(*lst))\n",
    "    cnt = pd.Series(Counter(votes)).sort_values(ascending=False)\n",
    "\n",
    "    # # total agreement\n",
    "    if len(cnt) == 1:\n",
    "        res = cnt.index[0]\n",
    "        stats['total_agreement'] += 1\n",
    "    # simple majority\n",
    "    elif cnt.iloc[0] > cnt.iloc[1]:\n",
    "        res = cnt.index[0]\n",
    "        stats['majority'] += 1\n",
    "    # (> 1 options) & (1 option == 2 option)\n",
    "    else:\n",
    "        # try overall skill based comparison\n",
    "        vals = list(map(lambda x: user2skill[x], users))\n",
    "        table = pd.DataFrame({'user': users, 'votes': votes, 'skill': vals})\n",
    "        agg = table.groupby('votes').agg(\n",
    "            sum_skill=pd.NamedAgg(column='skill', aggfunc='sum'),\n",
    "            sum_votes=pd.NamedAgg(column='user', aggfunc='count')\n",
    "        ).sort_values(by=['sum_votes', 'sum_skill'], ascending=False)\n",
    "        # check there is a leader by skills\n",
    "        if agg['sum_skill'].iloc[0] > agg['sum_skill'].iloc[1]:\n",
    "            res = agg.index[0]\n",
    "            stats['skill_based'] += 1\n",
    "        else:\n",
    "            # top-3 answers by overall skills\n",
    "            vals = list(map(lambda x: user2skill[x], users))\n",
    "            table = pd.DataFrame({'user': users, 'votes': votes, 'skill': vals})\n",
    "            table = table.sort_values(by='skill', ascending=False)\n",
    "            if len(table) >= 3:\n",
    "                sub = table.iloc[:3]\n",
    "            else:\n",
    "                sub = table\n",
    "            agg = sub.groupby('votes').agg(\n",
    "                sum_skill=pd.NamedAgg(column='skill', aggfunc='sum'),\n",
    "                sum_votes=pd.NamedAgg(column='user', aggfunc='count')\n",
    "            ).sort_values(by=['sum_votes', 'sum_skill'], ascending=False)\n",
    "            if agg['sum_skill'].iloc[0] != agg['sum_skill'].iloc[1]:\n",
    "                res = agg.index[0]\n",
    "                stats['major_based'] += 1\n",
    "            \n",
    "            else:\n",
    "                vals = list(map(lambda x: user2alpha[x], users))\n",
    "                table = pd.DataFrame({'user': users, 'votes': votes, 'skill': vals})\n",
    "                agg = table.groupby('votes').agg(\n",
    "                    sum_skill=pd.NamedAgg(column='skill', aggfunc='sum'),\n",
    "                    sum_votes=pd.NamedAgg(column='user', aggfunc='count')\n",
    "                ).sort_values(by=['sum_votes', 'sum_skill'], ascending=False)\n",
    "                # check there is a leader by skills\n",
    "                if agg['sum_skill'].iloc[0] != agg['sum_skill'].iloc[1]:\n",
    "                    res = agg.index[0]\n",
    "                    stats['em_based'] += 1\n",
    "                else:\n",
    "                    res = agg.index[0]\n",
    "                    stats['rest'] += 1\n",
    "\n",
    "    preds_full[keys[i]] = res\n",
    "\n",
    "preds_full_df = pd.concat([pd.DataFrame(preds_full.keys(), columns=['s1', 's2']), pd.DataFrame(preds_full.values(), columns=['lb'])], axis=1)"
   ]
  },
  {
   "cell_type": "code",
   "execution_count": 11,
   "metadata": {},
   "outputs": [
    {
     "data": {
      "text/plain": [
       "{'total_agreement': 22,\n",
       " 'majority': 58,\n",
       " 'skill_based': 15,\n",
       " 'major_based': 0,\n",
       " 'em_based': 5,\n",
       " 'rest': 0}"
      ]
     },
     "execution_count": 11,
     "metadata": {},
     "output_type": "execute_result"
    }
   ],
   "source": [
    "stats"
   ]
  },
  {
   "cell_type": "markdown",
   "metadata": {},
   "source": [
    "### Сопоставление разметки и ground truth"
   ]
  },
  {
   "cell_type": "markdown",
   "metadata": {},
   "source": [
    "Забираем задания из датасета с правильными метками."
   ]
  },
  {
   "cell_type": "code",
   "execution_count": 12,
   "metadata": {},
   "outputs": [],
   "source": [
    "res_df = pd.read_csv('full_with_ans.tsv', sep='\\t')\n",
    "res_df = res_df.rename({'INPUT:string1': 's1', 'INPUT:string2': 's2', 'target': 'lb'}, axis=1)"
   ]
  },
  {
   "cell_type": "markdown",
   "metadata": {},
   "source": [
    "После скачивания с Толоки в текстах рушится форматирование, потому нельзя просто сделать join двух табличек. Нужно убрать все \"лишнее\" форматирование сразу из двух табличек, чтобы остались только тексты, пунктуация и пробелы."
   ]
  },
  {
   "cell_type": "code",
   "execution_count": 13,
   "metadata": {},
   "outputs": [],
   "source": [
    "def format_text(text):\n",
    "    text = (text.strip().replace('\\n', ' ').replace('\\t', ' ')\n",
    "            .replace('\\r', ' ').replace('  ', ' ').replace('  ', ' ')\n",
    "            .replace('  ', ' '))\n",
    "    return text\n",
    "\n",
    "res_df['s1'] = res_df['s1'].apply(format_text)\n",
    "res_df['s2'] = res_df['s2'].apply(format_text)\n",
    "\n",
    "preds_full_df['s1'] = preds_full_df['s1'].apply(format_text)\n",
    "preds_full_df['s2'] = preds_full_df['s2'].apply(format_text)\n",
    "\n",
    "res_df['full'] = res_df['s1'] + ' ' + res_df['s2']\n",
    "preds_full_df['full'] = preds_full_df['s1'] + ' ' + preds_full_df['s2']"
   ]
  },
  {
   "cell_type": "markdown",
   "metadata": {},
   "source": [
    "Делаем left join, чтобы соединить голосование и правильные метки для одних и тех же заданий."
   ]
  },
  {
   "cell_type": "code",
   "execution_count": 14,
   "metadata": {},
   "outputs": [],
   "source": [
    "new = res_df.merge(preds_full_df.drop(['s1', 's2'], axis=1), on='full', how='left')"
   ]
  },
  {
   "cell_type": "code",
   "execution_count": 15,
   "metadata": {},
   "outputs": [],
   "source": [
    "new_valid = new[new['lb_y'].notna()].copy()"
   ]
  },
  {
   "cell_type": "code",
   "execution_count": 16,
   "metadata": {},
   "outputs": [
    {
     "name": "stdout",
     "output_type": "stream",
     "text": [
      "100\n"
     ]
    }
   ],
   "source": [
    "print(len(new_valid))"
   ]
  },
  {
   "cell_type": "markdown",
   "metadata": {},
   "source": [
    "После соединения меток голосования и правильных меток осталось 54 непустых строки. Значит, ни один объект выборки после фильтрации не был утерян."
   ]
  },
  {
   "cell_type": "code",
   "execution_count": 17,
   "metadata": {},
   "outputs": [
    {
     "data": {
      "text/html": [
       "<div>\n",
       "<style scoped>\n",
       "    .dataframe tbody tr th:only-of-type {\n",
       "        vertical-align: middle;\n",
       "    }\n",
       "\n",
       "    .dataframe tbody tr th {\n",
       "        vertical-align: top;\n",
       "    }\n",
       "\n",
       "    .dataframe thead th {\n",
       "        text-align: right;\n",
       "    }\n",
       "</style>\n",
       "<table border=\"1\" class=\"dataframe\">\n",
       "  <thead>\n",
       "    <tr style=\"text-align: right;\">\n",
       "      <th></th>\n",
       "      <th>lb_x</th>\n",
       "      <th>s1</th>\n",
       "      <th>s2</th>\n",
       "      <th>full</th>\n",
       "      <th>lb_y</th>\n",
       "    </tr>\n",
       "  </thead>\n",
       "  <tbody>\n",
       "    <tr>\n",
       "      <th>0</th>\n",
       "      <td>6</td>\n",
       "      <td>PPAMZHQONHYTUELNEUXTN</td>\n",
       "      <td>MWQCYPKFNGWQBENFBVRH</td>\n",
       "      <td>PPAMZHQONHYTUELNEUXTN MWQCYPKFNGWQBENFBVRH</td>\n",
       "      <td>9</td>\n",
       "    </tr>\n",
       "  </tbody>\n",
       "</table>\n",
       "</div>"
      ],
      "text/plain": [
       "   lb_x                     s1                    s2  \\\n",
       "0     6  PPAMZHQONHYTUELNEUXTN  MWQCYPKFNGWQBENFBVRH   \n",
       "\n",
       "                                         full  lb_y  \n",
       "0  PPAMZHQONHYTUELNEUXTN MWQCYPKFNGWQBENFBVRH     9  "
      ]
     },
     "execution_count": 17,
     "metadata": {},
     "output_type": "execute_result"
    }
   ],
   "source": [
    "new_valid.head(1)"
   ]
  },
  {
   "cell_type": "markdown",
   "metadata": {},
   "source": [
    "### Подсчет метрики"
   ]
  },
  {
   "cell_type": "code",
   "execution_count": 18,
   "metadata": {},
   "outputs": [
    {
     "data": {
      "text/plain": [
       "0.56"
      ]
     },
     "execution_count": 18,
     "metadata": {},
     "output_type": "execute_result"
    }
   ],
   "source": [
    "new_valid['lb_y'] = new_valid['lb_y'].astype(int)\n",
    "(new_valid['lb_x'] == new_valid['lb_y']).mean()"
   ]
  },
  {
   "cell_type": "markdown",
   "metadata": {},
   "source": [
    "`Accuracy = 0.56`"
   ]
  },
  {
   "cell_type": "markdown",
   "metadata": {},
   "source": [
    "### Анализ ошибок"
   ]
  },
  {
   "cell_type": "code",
   "execution_count": 19,
   "metadata": {},
   "outputs": [],
   "source": [
    "# !pip install crowd-kit\n",
    "\n",
    "from scipy import stats\n",
    "import numpy as np\n",
    "from crowdkit.aggregation.classification.glad import GLAD\n",
    "import matplotlib.pyplot as plt\n",
    "import seaborn as sns\n",
    "from matplotlib.gridspec import GridSpec as grid"
   ]
  },
  {
   "cell_type": "markdown",
   "metadata": {},
   "source": [
    "Заново подгружаем пул разметки."
   ]
  },
  {
   "cell_type": "code",
   "execution_count": 21,
   "metadata": {},
   "outputs": [],
   "source": [
    "pool = pd.read_csv('assignments_from_pool_41565705__29-09-2023.tsv', sep='\\t')"
   ]
  },
  {
   "cell_type": "markdown",
   "metadata": {},
   "source": [
    "Функция для подсчета энтропии (рассогласованности) в разметке."
   ]
  },
  {
   "cell_type": "code",
   "execution_count": 22,
   "metadata": {},
   "outputs": [],
   "source": [
    "def entropy(arr):\n",
    "    arr = np.asarray(arr).reshape(-1,)\n",
    "    cats = np.unique(arr)\n",
    "    probs = np.array([(arr == val).mean() for val in cats])\n",
    "    if (probs == 1).sum():\n",
    "        return 0\n",
    "    return -(probs * np.log2(probs)).sum()"
   ]
  },
  {
   "cell_type": "markdown",
   "metadata": {},
   "source": [
    "Убираем контрольные задания."
   ]
  },
  {
   "cell_type": "code",
   "execution_count": 23,
   "metadata": {},
   "outputs": [],
   "source": [
    "pool = pool[pool['GOLDEN:length'].isna()].reset_index(drop=True)"
   ]
  },
  {
   "cell_type": "code",
   "execution_count": 24,
   "metadata": {},
   "outputs": [],
   "source": [
    "pool['full'] = pool['INPUT:string1'] + ' ' + pool['INPUT:string2']"
   ]
  },
  {
   "cell_type": "markdown",
   "metadata": {},
   "source": [
    "Собираем полное условие и все лейблы от разметчиков в одну таблицу. Фильтрации по \"плохим\" разметчикам не проводим, чтобы и их ошибки видеть."
   ]
  },
  {
   "cell_type": "code",
   "execution_count": 25,
   "metadata": {},
   "outputs": [],
   "source": [
    "d = {}\n",
    "for i in range(len(pool)):\n",
    "    obj = pool.iloc[i]\n",
    "    d[obj['full']] = d.get(obj['full'], [])\n",
    "    d[obj['full']].append(int(obj['OUTPUT:length']))"
   ]
  },
  {
   "cell_type": "code",
   "execution_count": 26,
   "metadata": {},
   "outputs": [
    {
     "data": {
      "text/html": [
       "<div>\n",
       "<style scoped>\n",
       "    .dataframe tbody tr th:only-of-type {\n",
       "        vertical-align: middle;\n",
       "    }\n",
       "\n",
       "    .dataframe tbody tr th {\n",
       "        vertical-align: top;\n",
       "    }\n",
       "\n",
       "    .dataframe thead th {\n",
       "        text-align: right;\n",
       "    }\n",
       "</style>\n",
       "<table border=\"1\" class=\"dataframe\">\n",
       "  <thead>\n",
       "    <tr style=\"text-align: right;\">\n",
       "      <th></th>\n",
       "      <th>full</th>\n",
       "      <th>labels</th>\n",
       "    </tr>\n",
       "  </thead>\n",
       "  <tbody>\n",
       "    <tr>\n",
       "      <th>0</th>\n",
       "      <td>HNPUSKVDLLLKOS VQJSBYODNEITFC</td>\n",
       "      <td>[1, 7, 12, 1, 5]</td>\n",
       "    </tr>\n",
       "    <tr>\n",
       "      <th>1</th>\n",
       "      <td>ETZWYRWEKQPJLU OEOPDQRI</td>\n",
       "      <td>[2, 4, 4, 2, 2]</td>\n",
       "    </tr>\n",
       "    <tr>\n",
       "      <th>2</th>\n",
       "      <td>ISOGEVZOTTUQDOCK BZGXQTGWLECXUEZPVWIKQILONSZ</td>\n",
       "      <td>[14, 4, 5, 4, 6]</td>\n",
       "    </tr>\n",
       "  </tbody>\n",
       "</table>\n",
       "</div>"
      ],
      "text/plain": [
       "                                           full            labels\n",
       "0                 HNPUSKVDLLLKOS VQJSBYODNEITFC  [1, 7, 12, 1, 5]\n",
       "1                       ETZWYRWEKQPJLU OEOPDQRI   [2, 4, 4, 2, 2]\n",
       "2  ISOGEVZOTTUQDOCK BZGXQTGWLECXUEZPVWIKQILONSZ  [14, 4, 5, 4, 6]"
      ]
     },
     "execution_count": 26,
     "metadata": {},
     "output_type": "execute_result"
    }
   ],
   "source": [
    "df = pd.DataFrame({'full': d.keys(), 'labels': d.values()})\n",
    "df.head(3)"
   ]
  },
  {
   "cell_type": "markdown",
   "metadata": {},
   "source": [
    "Сразу посчитаем длины входных строк."
   ]
  },
  {
   "cell_type": "code",
   "execution_count": 27,
   "metadata": {},
   "outputs": [],
   "source": [
    "df['s1'] = df.full.apply(lambda x: x.split()[0])\n",
    "df['s2'] = df.full.apply(lambda x: x.split()[1])\n",
    "df['full_len'] = df['full'].apply(len)\n",
    "df['s1_len'] = df['s1'].apply(len)\n",
    "df['s2_len'] = df['s2'].apply(len)"
   ]
  },
  {
   "cell_type": "markdown",
   "metadata": {},
   "source": [
    "Теперь считаем энтропию разметки для каждого задания."
   ]
  },
  {
   "cell_type": "code",
   "execution_count": 28,
   "metadata": {},
   "outputs": [],
   "source": [
    "df['entropy'] = df['labels'].apply(entropy)"
   ]
  },
  {
   "cell_type": "code",
   "execution_count": 29,
   "metadata": {},
   "outputs": [],
   "source": [
    "res_df = pd.read_csv('full_with_ans.tsv', sep='\\t')\n",
    "res_df['full'] = res_df['INPUT:string1'] + ' ' + res_df['INPUT:string2']"
   ]
  },
  {
   "cell_type": "markdown",
   "metadata": {},
   "source": [
    "Собираем статистики и правильные ответы в одну табличку."
   ]
  },
  {
   "cell_type": "code",
   "execution_count": 30,
   "metadata": {},
   "outputs": [],
   "source": [
    "df = df.merge(res_df, on='full', how='left')"
   ]
  },
  {
   "cell_type": "code",
   "execution_count": 31,
   "metadata": {},
   "outputs": [],
   "source": [
    "df = df.drop(['INPUT:string1', 'INPUT:string2'], axis=1)"
   ]
  },
  {
   "cell_type": "code",
   "execution_count": 44,
   "metadata": {},
   "outputs": [],
   "source": [
    "def corrs(arr1, arr2):\n",
    "    return {\n",
    "        \"Pearson corr\": stats.pearsonr(arr1, arr2)[0],\n",
    "        \"Spearman corr\": stats.spearmanr(arr1, arr2)[0],\n",
    "        \"Kendall corr\": stats.kendalltau(arr1, arr2)[0],\n",
    "    }"
   ]
  },
  {
   "cell_type": "code",
   "execution_count": 33,
   "metadata": {},
   "outputs": [
    {
     "name": "stdout",
     "output_type": "stream",
     "text": [
      "Корреляция с энтропией\n"
     ]
    },
    {
     "data": {
      "text/html": [
       "<div>\n",
       "<style scoped>\n",
       "    .dataframe tbody tr th:only-of-type {\n",
       "        vertical-align: middle;\n",
       "    }\n",
       "\n",
       "    .dataframe tbody tr th {\n",
       "        vertical-align: top;\n",
       "    }\n",
       "\n",
       "    .dataframe thead th {\n",
       "        text-align: right;\n",
       "    }\n",
       "</style>\n",
       "<table border=\"1\" class=\"dataframe\">\n",
       "  <thead>\n",
       "    <tr style=\"text-align: right;\">\n",
       "      <th></th>\n",
       "      <th>Pearson corr</th>\n",
       "      <th>Spearman corr</th>\n",
       "      <th>Kendall corr</th>\n",
       "    </tr>\n",
       "  </thead>\n",
       "  <tbody>\n",
       "    <tr>\n",
       "      <th>Общая длина двух последовательностей</th>\n",
       "      <td>0.622</td>\n",
       "      <td>0.622</td>\n",
       "      <td>0.476</td>\n",
       "    </tr>\n",
       "    <tr>\n",
       "      <th>Длина первой последовательности</th>\n",
       "      <td>0.535</td>\n",
       "      <td>0.526</td>\n",
       "      <td>0.405</td>\n",
       "    </tr>\n",
       "    <tr>\n",
       "      <th>Длина второй последовательности</th>\n",
       "      <td>0.344</td>\n",
       "      <td>0.357</td>\n",
       "      <td>0.276</td>\n",
       "    </tr>\n",
       "    <tr>\n",
       "      <th>Длина LCS</th>\n",
       "      <td>0.725</td>\n",
       "      <td>0.755</td>\n",
       "      <td>0.628</td>\n",
       "    </tr>\n",
       "  </tbody>\n",
       "</table>\n",
       "</div>"
      ],
      "text/plain": [
       "                                      Pearson corr  Spearman corr  \\\n",
       "Общая длина двух последовательностей         0.622          0.622   \n",
       "Длина первой последовательности              0.535          0.526   \n",
       "Длина второй последовательности              0.344          0.357   \n",
       "Длина LCS                                    0.725          0.755   \n",
       "\n",
       "                                      Kendall corr  \n",
       "Общая длина двух последовательностей         0.476  \n",
       "Длина первой последовательности              0.405  \n",
       "Длина второй последовательности              0.276  \n",
       "Длина LCS                                    0.628  "
      ]
     },
     "execution_count": 33,
     "metadata": {},
     "output_type": "execute_result"
    }
   ],
   "source": [
    "print(\"Корреляция с энтропией\")\n",
    "pd.DataFrame({\n",
    "    \"Общая длина двух последовательностей\": corrs(df.entropy, df['full_len']),\n",
    "    \"Длина первой последовательности\": corrs(df.entropy, df['s1_len']),\n",
    "    \"Длина второй последовательности\": corrs(df.entropy, df['s2_len']),\n",
    "    \"Длина LCS\": corrs(df.entropy, df['target']),\n",
    "}).round(3).transpose()"
   ]
  },
  {
   "cell_type": "markdown",
   "metadata": {},
   "source": [
    "Рассогласованность разметки достаточно сильно скоррелирована с длиной входных строк. Причем очевидно, что первая строка имеет большее значение, чем вторая. Чем больше размер общей подпоследовательности, тем больше энтропия в ответах."
   ]
  },
  {
   "cell_type": "markdown",
   "metadata": {},
   "source": [
    "Попробуем теперь посмотреть на то, сойдутся ли ошибки разметчиков с аггрегацией данных разметки EM-алгоритмом."
   ]
  },
  {
   "cell_type": "code",
   "execution_count": 35,
   "metadata": {},
   "outputs": [],
   "source": [
    "id2task = dict(enumerate(df.full))\n",
    "task2id = {k:v for v, k in id2task.items()}"
   ]
  },
  {
   "cell_type": "code",
   "execution_count": 36,
   "metadata": {},
   "outputs": [],
   "source": [
    "id2user = dict(enumerate(pool['ASSIGNMENT:worker_id']))\n",
    "user2id = {k:v for v, k in id2user.items()}"
   ]
  },
  {
   "cell_type": "code",
   "execution_count": 37,
   "metadata": {},
   "outputs": [],
   "source": [
    "df['code'] = df.full.map(task2id)"
   ]
  },
  {
   "cell_type": "code",
   "execution_count": 38,
   "metadata": {},
   "outputs": [],
   "source": [
    "res = pool[['full', 'ASSIGNMENT:worker_id', 'OUTPUT:length']].rename({'full': 'task', 'ASSIGNMENT:worker_id': 'worker', 'OUTPUT:length': 'label'}, axis=1)"
   ]
  },
  {
   "cell_type": "code",
   "execution_count": 39,
   "metadata": {},
   "outputs": [],
   "source": [
    "res.task = res.task.map(task2id)\n",
    "res.worker = res.worker.map(user2id)"
   ]
  },
  {
   "cell_type": "code",
   "execution_count": 40,
   "metadata": {},
   "outputs": [],
   "source": [
    "model = GLAD(n_iter=10000, tol=1e-06, m_step_max_iter=1000, m_step_tol=1e-03)\n",
    "model.fit(res);"
   ]
  },
  {
   "cell_type": "code",
   "execution_count": 41,
   "metadata": {},
   "outputs": [],
   "source": [
    "task2beta = dict(enumerate(model.betas_))"
   ]
  },
  {
   "cell_type": "markdown",
   "metadata": {},
   "source": [
    "Беты у GLAD - это обратные сложности заданий, посчитанные по полу. При этом правльные ответы алгоритму не известны, чтобы повлиять на его результаты."
   ]
  },
  {
   "cell_type": "code",
   "execution_count": 42,
   "metadata": {},
   "outputs": [],
   "source": [
    "df['beta'] = df.code.apply(lambda x: task2beta[x])"
   ]
  },
  {
   "cell_type": "code",
   "execution_count": 43,
   "metadata": {},
   "outputs": [],
   "source": [
    "df['beta'] = df.code.apply(lambda x: task2beta[x])"
   ]
  },
  {
   "cell_type": "code",
   "execution_count": 45,
   "metadata": {},
   "outputs": [
    {
     "name": "stdout",
     "output_type": "stream",
     "text": [
      "Корреляция с энтропией\n"
     ]
    },
    {
     "data": {
      "text/html": [
       "<div>\n",
       "<style scoped>\n",
       "    .dataframe tbody tr th:only-of-type {\n",
       "        vertical-align: middle;\n",
       "    }\n",
       "\n",
       "    .dataframe tbody tr th {\n",
       "        vertical-align: top;\n",
       "    }\n",
       "\n",
       "    .dataframe thead th {\n",
       "        text-align: right;\n",
       "    }\n",
       "</style>\n",
       "<table border=\"1\" class=\"dataframe\">\n",
       "  <thead>\n",
       "    <tr style=\"text-align: right;\">\n",
       "      <th></th>\n",
       "      <th>Kendall corr</th>\n",
       "      <th>Pearson corr</th>\n",
       "      <th>Spearman corr</th>\n",
       "    </tr>\n",
       "  </thead>\n",
       "  <tbody>\n",
       "    <tr>\n",
       "      <th>Обратные сложности из GLAD</th>\n",
       "      <td>-0.341</td>\n",
       "      <td>-0.43</td>\n",
       "      <td>-0.457</td>\n",
       "    </tr>\n",
       "  </tbody>\n",
       "</table>\n",
       "</div>"
      ],
      "text/plain": [
       "                            Kendall corr  Pearson corr  Spearman corr\n",
       "Обратные сложности из GLAD        -0.341         -0.43         -0.457"
      ]
     },
     "execution_count": 45,
     "metadata": {},
     "output_type": "execute_result"
    }
   ],
   "source": [
    "print(\"Корреляция с энтропией\")\n",
    "pd.DataFrame({\n",
    "    \"Обратные сложности из GLAD\": corrs(df.entropy, df['beta']),\n",
    "}).round(3).transpose()"
   ]
  },
  {
   "cell_type": "markdown",
   "metadata": {},
   "source": [
    "Посчитанные в EM-алгоритме сложности заданий (беты) также сильно коррелируют с энтропией. Однако алгоритм и учится на результатах разметки, так что это не вполне убедительно, хоть и подтверждает, что сложные задания и есть самые рассогласованные."
   ]
  },
  {
   "cell_type": "code",
   "execution_count": 46,
   "metadata": {},
   "outputs": [
    {
     "name": "stdout",
     "output_type": "stream",
     "text": [
      "Корреляция с обратными сложностями\n"
     ]
    },
    {
     "data": {
      "text/html": [
       "<div>\n",
       "<style scoped>\n",
       "    .dataframe tbody tr th:only-of-type {\n",
       "        vertical-align: middle;\n",
       "    }\n",
       "\n",
       "    .dataframe tbody tr th {\n",
       "        vertical-align: top;\n",
       "    }\n",
       "\n",
       "    .dataframe thead th {\n",
       "        text-align: right;\n",
       "    }\n",
       "</style>\n",
       "<table border=\"1\" class=\"dataframe\">\n",
       "  <thead>\n",
       "    <tr style=\"text-align: right;\">\n",
       "      <th></th>\n",
       "      <th>Pearson corr</th>\n",
       "      <th>Spearman corr</th>\n",
       "      <th>Kendall corr</th>\n",
       "    </tr>\n",
       "  </thead>\n",
       "  <tbody>\n",
       "    <tr>\n",
       "      <th>Длина первой последовательности</th>\n",
       "      <td>-0.167</td>\n",
       "      <td>-0.150</td>\n",
       "      <td>-0.098</td>\n",
       "    </tr>\n",
       "    <tr>\n",
       "      <th>Длина второй последовательности</th>\n",
       "      <td>-0.102</td>\n",
       "      <td>-0.128</td>\n",
       "      <td>-0.085</td>\n",
       "    </tr>\n",
       "    <tr>\n",
       "      <th>Суммарная длина</th>\n",
       "      <td>-0.191</td>\n",
       "      <td>-0.185</td>\n",
       "      <td>-0.130</td>\n",
       "    </tr>\n",
       "  </tbody>\n",
       "</table>\n",
       "</div>"
      ],
      "text/plain": [
       "                                 Pearson corr  Spearman corr  Kendall corr\n",
       "Длина первой последовательности        -0.167         -0.150        -0.098\n",
       "Длина второй последовательности        -0.102         -0.128        -0.085\n",
       "Суммарная длина                        -0.191         -0.185        -0.130"
      ]
     },
     "execution_count": 46,
     "metadata": {},
     "output_type": "execute_result"
    }
   ],
   "source": [
    "print(\"Корреляция с обратными сложностями\")\n",
    "pd.DataFrame({\n",
    "    \"Длина первой последовательности\": corrs(df.s1_len, df['beta']),\n",
    "    \"Длина второй последовательности\": corrs(df.s2_len, df['beta']),\n",
    "    \"Суммарная длина\": corrs(df.full_len, df['beta']),\n",
    "}).round(3).transpose()"
   ]
  },
  {
   "cell_type": "markdown",
   "metadata": {},
   "source": [
    "Выводы подтверждаются. Длина влияет на сложность задачи. В отличии от предыдущих величин, данные никак моделью не могли быть учтены, так как модель не видела самих заданий, а только ответы разметчиков. Также обратить вннимание стоит, что бета - это инвертированная сложность задания, потому отрицательная корреляция подтверждает выводы, а не опровергает их."
   ]
  },
  {
   "cell_type": "code",
   "execution_count": 47,
   "metadata": {},
   "outputs": [
    {
     "name": "stdout",
     "output_type": "stream",
     "text": [
      "Корреляция с LCS\n"
     ]
    },
    {
     "data": {
      "text/html": [
       "<div>\n",
       "<style scoped>\n",
       "    .dataframe tbody tr th:only-of-type {\n",
       "        vertical-align: middle;\n",
       "    }\n",
       "\n",
       "    .dataframe tbody tr th {\n",
       "        vertical-align: top;\n",
       "    }\n",
       "\n",
       "    .dataframe thead th {\n",
       "        text-align: right;\n",
       "    }\n",
       "</style>\n",
       "<table border=\"1\" class=\"dataframe\">\n",
       "  <thead>\n",
       "    <tr style=\"text-align: right;\">\n",
       "      <th></th>\n",
       "      <th>Pearson corr</th>\n",
       "      <th>Spearman corr</th>\n",
       "      <th>Kendall corr</th>\n",
       "    </tr>\n",
       "  </thead>\n",
       "  <tbody>\n",
       "    <tr>\n",
       "      <th>Обратные сложности из GLAD</th>\n",
       "      <td>-0.314</td>\n",
       "      <td>-0.295</td>\n",
       "      <td>-0.212</td>\n",
       "    </tr>\n",
       "    <tr>\n",
       "      <th>Средний ответ разметчика</th>\n",
       "      <td>0.888</td>\n",
       "      <td>0.909</td>\n",
       "      <td>0.794</td>\n",
       "    </tr>\n",
       "  </tbody>\n",
       "</table>\n",
       "</div>"
      ],
      "text/plain": [
       "                            Pearson corr  Spearman corr  Kendall corr\n",
       "Обратные сложности из GLAD        -0.314         -0.295        -0.212\n",
       "Средний ответ разметчика           0.888          0.909         0.794"
      ]
     },
     "execution_count": 47,
     "metadata": {},
     "output_type": "execute_result"
    }
   ],
   "source": [
    "print(\"Корреляция с LCS\")\n",
    "pd.DataFrame({\n",
    "    \"Обратные сложности из GLAD\": corrs(df.target, df['beta']),\n",
    "    \"Средний ответ разметчика\": corrs(df.labels.apply(np.mean), df['target']),\n",
    "}).round(3).transpose()"
   ]
  },
  {
   "cell_type": "markdown",
   "metadata": {},
   "source": [
    "Достаточно сильная отрицательная корреляция между инвертированной сложностью задания и величиной таргета - размером общей подпоследовательности."
   ]
  },
  {
   "cell_type": "markdown",
   "metadata": {},
   "source": [
    "В среднем разметчики неплохо приближают значение таргета. Это значит, что разметчики очень хорошо угадывают примерную длину общей подпоследовательности."
   ]
  },
  {
   "cell_type": "code",
   "execution_count": 48,
   "metadata": {},
   "outputs": [
    {
     "name": "stdout",
     "output_type": "stream",
     "text": [
      "Корреляция со средним ответом разметчиков на задание\n"
     ]
    },
    {
     "data": {
      "text/html": [
       "<div>\n",
       "<style scoped>\n",
       "    .dataframe tbody tr th:only-of-type {\n",
       "        vertical-align: middle;\n",
       "    }\n",
       "\n",
       "    .dataframe tbody tr th {\n",
       "        vertical-align: top;\n",
       "    }\n",
       "\n",
       "    .dataframe thead th {\n",
       "        text-align: right;\n",
       "    }\n",
       "</style>\n",
       "<table border=\"1\" class=\"dataframe\">\n",
       "  <thead>\n",
       "    <tr style=\"text-align: right;\">\n",
       "      <th></th>\n",
       "      <th>Pearson corr</th>\n",
       "      <th>Spearman corr</th>\n",
       "      <th>Kendall corr</th>\n",
       "    </tr>\n",
       "  </thead>\n",
       "  <tbody>\n",
       "    <tr>\n",
       "      <th>Суммарная длина</th>\n",
       "      <td>0.786</td>\n",
       "      <td>0.796</td>\n",
       "      <td>0.622</td>\n",
       "    </tr>\n",
       "    <tr>\n",
       "      <th>Длина первой последовательности</th>\n",
       "      <td>0.580</td>\n",
       "      <td>0.630</td>\n",
       "      <td>0.460</td>\n",
       "    </tr>\n",
       "    <tr>\n",
       "      <th>Длина второй последовательности</th>\n",
       "      <td>0.538</td>\n",
       "      <td>0.505</td>\n",
       "      <td>0.366</td>\n",
       "    </tr>\n",
       "  </tbody>\n",
       "</table>\n",
       "</div>"
      ],
      "text/plain": [
       "                                 Pearson corr  Spearman corr  Kendall corr\n",
       "Суммарная длина                         0.786          0.796         0.622\n",
       "Длина первой последовательности         0.580          0.630         0.460\n",
       "Длина второй последовательности         0.538          0.505         0.366"
      ]
     },
     "execution_count": 48,
     "metadata": {},
     "output_type": "execute_result"
    }
   ],
   "source": [
    "print(\"Корреляция со средним ответом разметчиков на задание\")\n",
    "pd.DataFrame({\n",
    "    \"Суммарная длина\": corrs(df.labels.apply(np.mean), df['full_len']),\n",
    "    \"Длина первой последовательности\": corrs(df.labels.apply(np.mean), df['s1_len']),\n",
    "    \"Длина второй последовательности\": corrs(df.labels.apply(np.mean), df['s2_len']),\n",
    "}).round(3).transpose()"
   ]
  },
  {
   "cell_type": "markdown",
   "metadata": {},
   "source": [
    "Чем больше длина входных строк, тем большее число разметчики ставят в разметке. При этом можно заметить, что снова первая строка влияет на длину ответа разметчиков сильнее, чем вторая строка."
   ]
  },
  {
   "cell_type": "markdown",
   "metadata": {},
   "source": [
    "Проведем снова голосование большинством. Для тех заданий, где согласованность не достигнута, будем ставить отметку -1."
   ]
  },
  {
   "cell_type": "code",
   "execution_count": 49,
   "metadata": {},
   "outputs": [],
   "source": [
    "lst = []\n",
    "for i in range(len(df)):\n",
    "    obj = df.labels.iloc[i]\n",
    "    cnt = Counter(obj)\n",
    "    most = cnt.most_common(1)[0][1]\n",
    "    if most >= 3:\n",
    "        lst.append(cnt.most_common(1)[0][0])\n",
    "    else:\n",
    "        lst.append(-1)\n",
    "df['lb'] = lst"
   ]
  },
  {
   "cell_type": "markdown",
   "metadata": {},
   "source": [
    "Будем грубо оценивать вероятность правильного ответа на задание на основе имеющихся ответов - частотный подход (число поизитивных исходов / число всех исходов)."
   ]
  },
  {
   "cell_type": "code",
   "execution_count": 50,
   "metadata": {},
   "outputs": [],
   "source": [
    "def get_prob(df, tgt, feat):\n",
    "    mask = df[feat] == tgt\n",
    "    sub = df[mask].copy()\n",
    "    return (sub['lb'] == tgt).sum() / len(sub)"
   ]
  },
  {
   "cell_type": "code",
   "execution_count": 51,
   "metadata": {},
   "outputs": [
    {
     "name": "stdout",
     "output_type": "stream",
     "text": [
      "Probability for target ->0<- is equal to ->1.0<-\n",
      "Probability for target ->1<- is equal to ->1.0<-\n",
      "Probability for target ->2<- is equal to ->0.7<-\n",
      "Probability for target ->3<- is equal to ->0.5<-\n",
      "Probability for target ->4<- is equal to ->0.31<-\n",
      "Probability for target ->5<- is equal to ->0.07<-\n",
      "Probability for target ->6<- is equal to ->0.0<-\n",
      "Probability for target ->7<- is equal to ->0.0<-\n",
      "Probability for target ->8<- is equal to ->0.0<-\n",
      "Probability for target ->9<- is equal to ->0.0<-\n",
      "Probability for target ->10<- is equal to ->0.0<-\n",
      "Probability for target ->11<- is equal to ->0.0<-\n"
     ]
    }
   ],
   "source": [
    "l = []\n",
    "for i in sorted(df.target.unique()):\n",
    "    proba = get_prob(df, i, 'target')\n",
    "    print(f'Probability for target ->{i}<- is equal to ->{round(proba, 2)}<-')\n",
    "    l.append(proba)"
   ]
  },
  {
   "cell_type": "markdown",
   "metadata": {},
   "source": [
    "Чем больше таргет, тем меньше мы оцениваем вероятность того, что толокеры успешно справятся с задачей. Причем при длине общей последовательности больше 5 наша оценка вероятности стремится к нулю"
   ]
  },
  {
   "cell_type": "markdown",
   "metadata": {},
   "source": [
    "Теперь оценим вероятность правильного ответа для разных длин строк"
   ]
  },
  {
   "cell_type": "code",
   "execution_count": 52,
   "metadata": {},
   "outputs": [],
   "source": [
    "def get_prob1(df, tgt, feat):\n",
    "    mask = df[feat] == tgt\n",
    "    sub = df[mask].copy()\n",
    "    return (sub['lb'] != -1).sum() / len(sub)"
   ]
  },
  {
   "cell_type": "code",
   "execution_count": 53,
   "metadata": {},
   "outputs": [],
   "source": [
    "l1 = []\n",
    "for i in sorted(df['full_len'].unique()):\n",
    "    proba = get_prob1(df, i, 'full_len')\n",
    "    l1.append(proba)"
   ]
  },
  {
   "cell_type": "code",
   "execution_count": 54,
   "metadata": {},
   "outputs": [],
   "source": [
    "l2 = []\n",
    "for i in sorted(df['s1_len'].unique()):\n",
    "    proba = get_prob1(df, i, 's1_len')\n",
    "    l2.append(proba)"
   ]
  },
  {
   "cell_type": "code",
   "execution_count": 55,
   "metadata": {},
   "outputs": [],
   "source": [
    "l3 = []\n",
    "for i in sorted(df['s2_len'].unique()):\n",
    "    proba = get_prob1(df, i, 's2_len')\n",
    "    l3.append(proba)"
   ]
  },
  {
   "cell_type": "markdown",
   "metadata": {},
   "source": [
    "Посмотрим на результаты на графике для удобства."
   ]
  },
  {
   "cell_type": "code",
   "execution_count": 56,
   "metadata": {},
   "outputs": [
    {
     "data": {
      "image/png": "[encoded data removed]",
      "text/plain": [
       "<Figure size 1000x1000 with 4 Axes>"
      ]
     },
     "metadata": {},
     "output_type": "display_data"
    }
   ],
   "source": [
    "fig = plt.figure(figsize=(10, 10))\n",
    "gs = grid(2, 2, figure=fig)\n",
    "\n",
    "ax = fig.add_subplot(gs[0, 0])\n",
    "ax.bar(sorted(df.target.unique()), l)\n",
    "ax.set_title('По размеру таргета', size=11, weight='heavy')\n",
    "ax.set_xlabel('Размер таргета', size=10)\n",
    "ax.set_ylabel('Вероятность', size=10)\n",
    "\n",
    "ax = fig.add_subplot(gs[0, 1])\n",
    "ax.bar(sorted(df['full_len'].unique()), l1)\n",
    "ax.set_title('По размеру инпута', size=11, weight='heavy')\n",
    "ax.set_xlabel('Размер инпута', size=10)\n",
    "\n",
    "ax = fig.add_subplot(gs[1, 0])\n",
    "ax.bar(sorted(df['s1_len'].unique()), l2)\n",
    "ax.set_title('По размеру string1', size=11, weight='heavy')\n",
    "ax.set_xlabel('Размер первой строки', size=10)\n",
    "ax.set_ylabel('Вероятность', size=10)\n",
    "\n",
    "ax = fig.add_subplot(gs[1, 1])\n",
    "ax.bar(sorted(df['s2_len'].unique()), l3)\n",
    "ax.set_title('По размеру string2', size=11, weight='heavy')\n",
    "ax.set_xlabel('Размер второй строки', size=10)\n",
    "\n",
    "plt.suptitle('Вероятности правильных ответов', size=15, weight='bold', x=0.5, y=.95)\n",
    "\n",
    "plt.show()"
   ]
  },
  {
   "cell_type": "markdown",
   "metadata": {},
   "source": [
    "Для размеров таргета тренд очевиден и уже указан, а вот для размера входных строк тренд хоть и прослеживается - меньше высоких столбцов, но все же содержит шумы, где даже для длинных строк ответ дается правильный, что также объяснимо хотя бы тем, что есть задания, где олна строка очень большая, а другая очень маленькая, а также задания, где две строки очень большие, но общих символов у них почти нет, что можно заметить глазами и дать правильный ответ"
   ]
  }
 ],
 "metadata": {
  "kernelspec": {
   "display_name": "Python 3",
   "language": "python",
   "name": "python3"
  },
  "language_info": {
   "codemirror_mode": {
    "name": "ipython",
    "version": 3
   },
   "file_extension": ".py",
   "mimetype": "text/x-python",
   "name": "python",
   "nbconvert_exporter": "python",
   "pygments_lexer": "ipython3",
   "version": "3.11.4"
  },
  "orig_nbformat": 4
 },
 "nbformat": 4,
 "nbformat_minor": 2
}
